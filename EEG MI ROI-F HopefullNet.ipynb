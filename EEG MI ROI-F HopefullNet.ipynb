{
 "cells": [
  {
   "cell_type": "code",
   "execution_count": 3,
   "id": "a596c2c6-0962-4f29-bd10-87414d3d8111",
   "metadata": {},
   "outputs": [
    {
     "name": "stdout",
     "output_type": "stream",
     "text": [
      "343323\n",
      "343323\n"
     ]
    }
   ],
   "source": [
    "import numpy as np\n",
    "import os\n",
    "from pathlib import Path\n",
    "paths_list=[]\n",
    "labels_list=[]\n",
    "for i in range (1, 110):\n",
    "    if i != 100 and i != 92 and i != 88 :\n",
    "        for j in range(3, 15):\n",
    "            for r in range(0, 400):\n",
    "                if os.path.isfile(f\"EEG MI ROI-F/datasets/S{str(i).rjust(3, '0')}R{str(j).rjust(2, '0')}{str(r).rjust(3, '0')}.npy\"):\n",
    "                    paths_list.append(f\"EEG MI ROI-F/datasets/S{str(i).rjust(3, '0')}R{str(j).rjust(2, '0')}{str(r).rjust(3, '0')}.npy\")\n",
    "labels_list = np.load('EEG MI ROI-F/labels_list.npy')\n",
    "print(len(paths_list))\n",
    "print(len(labels_list))\n",
    "# print(paths_list)"
   ]
  },
  {
   "cell_type": "code",
   "execution_count": 4,
   "id": "773032f4-aedd-4a7f-956b-94eb4ad26ab3",
   "metadata": {},
   "outputs": [],
   "source": [
    "from sklearn import model_selection\n",
    "def train_test_split(series_list, labels_list):\n",
    "    x_train, x_test, y_train, y_test = model_selection.train_test_split(\n",
    "        series_list, labels_list, test_size=0.125, random_state=42, shuffle=True\n",
    "    )\n",
    "    return x_train, x_test, y_train, y_test\n",
    "x_train, x_test, y_train, y_test = train_test_split(paths_list, labels_list)"
   ]
  },
  {
   "cell_type": "code",
   "execution_count": 5,
   "id": "201ae65a-8111-420e-b252-0a590fa19689",
   "metadata": {},
   "outputs": [],
   "source": [
    "import tensorflow as tf\n",
    "import math\n",
    "class EMMDSequence(tf.keras.utils.Sequence):\n",
    "\n",
    "    def __init__(self, x_set, y_set, batch_size):\n",
    "        self.x, self.y = x_set, y_set\n",
    "        self.batch_size = batch_size\n",
    "\n",
    "    def __len__(self):\n",
    "        return math.ceil(len(self.x) / self.batch_size)\n",
    "\n",
    "    def __getitem__(self, idx):\n",
    "        low = idx * self.batch_size\n",
    "        # Cap upper bound at array length; the last batch may be smaller\n",
    "        # if the total number of items is not a multiple of batch size.\n",
    "        high = min(low + self.batch_size, len(self.x))\n",
    "        batch_x = self.x[low:high]\n",
    "        batch_y = self.y[low:high]\n",
    "\n",
    "        return np.array([np.load(file_name) for file_name in batch_x]), np.array(batch_y)"
   ]
  },
  {
   "cell_type": "code",
   "execution_count": 6,
   "id": "4e0902bb-8a7b-4954-86e4-b2554e51dfea",
   "metadata": {},
   "outputs": [
    {
     "name": "stderr",
     "output_type": "stream",
     "text": [
      "2023-09-04 15:12:36.185086: I tensorflow/compiler/xla/stream_executor/cuda/cuda_gpu_executor.cc:981] could not open file to read NUMA node: /sys/bus/pci/devices/0000:01:00.0/numa_node\n",
      "Your kernel may have been built without NUMA support.\n",
      "2023-09-04 15:12:36.306057: I tensorflow/compiler/xla/stream_executor/cuda/cuda_gpu_executor.cc:981] could not open file to read NUMA node: /sys/bus/pci/devices/0000:01:00.0/numa_node\n",
      "Your kernel may have been built without NUMA support.\n",
      "2023-09-04 15:12:36.306131: I tensorflow/compiler/xla/stream_executor/cuda/cuda_gpu_executor.cc:981] could not open file to read NUMA node: /sys/bus/pci/devices/0000:01:00.0/numa_node\n",
      "Your kernel may have been built without NUMA support.\n",
      "2023-09-04 15:12:36.310972: I tensorflow/compiler/xla/stream_executor/cuda/cuda_gpu_executor.cc:981] could not open file to read NUMA node: /sys/bus/pci/devices/0000:01:00.0/numa_node\n",
      "Your kernel may have been built without NUMA support.\n",
      "2023-09-04 15:12:36.311051: I tensorflow/compiler/xla/stream_executor/cuda/cuda_gpu_executor.cc:981] could not open file to read NUMA node: /sys/bus/pci/devices/0000:01:00.0/numa_node\n",
      "Your kernel may have been built without NUMA support.\n",
      "2023-09-04 15:12:36.311088: I tensorflow/compiler/xla/stream_executor/cuda/cuda_gpu_executor.cc:981] could not open file to read NUMA node: /sys/bus/pci/devices/0000:01:00.0/numa_node\n",
      "Your kernel may have been built without NUMA support.\n",
      "2023-09-04 15:12:37.905732: I tensorflow/compiler/xla/stream_executor/cuda/cuda_gpu_executor.cc:981] could not open file to read NUMA node: /sys/bus/pci/devices/0000:01:00.0/numa_node\n",
      "Your kernel may have been built without NUMA support.\n",
      "2023-09-04 15:12:37.905855: I tensorflow/compiler/xla/stream_executor/cuda/cuda_gpu_executor.cc:981] could not open file to read NUMA node: /sys/bus/pci/devices/0000:01:00.0/numa_node\n",
      "Your kernel may have been built without NUMA support.\n",
      "2023-09-04 15:12:37.905907: I tensorflow/core/common_runtime/gpu/gpu_device.cc:1726] Could not identify NUMA node of platform GPU id 0, defaulting to 0.  Your kernel may not have been built with NUMA support.\n",
      "2023-09-04 15:12:37.905966: I tensorflow/compiler/xla/stream_executor/cuda/cuda_gpu_executor.cc:981] could not open file to read NUMA node: /sys/bus/pci/devices/0000:01:00.0/numa_node\n",
      "Your kernel may have been built without NUMA support.\n",
      "2023-09-04 15:12:37.906056: I tensorflow/core/common_runtime/gpu/gpu_device.cc:1639] Created device /job:localhost/replica:0/task:0/device:GPU:0 with 3888 MB memory:  -> device: 0, name: NVIDIA GeForce RTX 2060, pci bus id: 0000:01:00.0, compute capability: 7.5\n"
     ]
    },
    {
     "name": "stdout",
     "output_type": "stream",
     "text": [
      "Model: \"sequential\"\n",
      "_________________________________________________________________\n",
      " Layer (type)                Output Shape              Param #   \n",
      "=================================================================\n",
      " conv1d (Conv1D)             (None, 640, 32)           1312      \n",
      "                                                                 \n",
      " batch_normalization (Batch  (None, 640, 32)           128       \n",
      " Normalization)                                                  \n",
      "                                                                 \n",
      " conv1d_1 (Conv1D)           (None, 621, 32)           20512     \n",
      "                                                                 \n",
      " batch_normalization_1 (Bat  (None, 621, 32)           128       \n",
      " chNormalization)                                                \n",
      "                                                                 \n",
      " spatial_dropout1d (Spatial  (None, 621, 32)           0         \n",
      " Dropout1D)                                                      \n",
      "                                                                 \n",
      " conv1d_2 (Conv1D)           (None, 616, 32)           6176      \n",
      "                                                                 \n",
      " average_pooling1d (Average  (None, 615, 32)           0         \n",
      " Pooling1D)                                                      \n",
      "                                                                 \n",
      " conv1d_3 (Conv1D)           (None, 610, 32)           6176      \n",
      "                                                                 \n",
      " spatial_dropout1d_1 (Spati  (None, 610, 32)           0         \n",
      " alDropout1D)                                                    \n",
      "                                                                 \n",
      " flatten (Flatten)           (None, 19520)             0         \n",
      "                                                                 \n",
      " dense (Dense)               (None, 296)               5778216   \n",
      "                                                                 \n",
      " dropout (Dropout)           (None, 296)               0         \n",
      "                                                                 \n",
      " dense_1 (Dense)             (None, 148)               43956     \n",
      "                                                                 \n",
      " dropout_1 (Dropout)         (None, 148)               0         \n",
      "                                                                 \n",
      " dense_2 (Dense)             (None, 74)                11026     \n",
      "                                                                 \n",
      " dropout_2 (Dropout)         (None, 74)                0         \n",
      "                                                                 \n",
      " dense_3 (Dense)             (None, 5)                 375       \n",
      "                                                                 \n",
      "=================================================================\n",
      "Total params: 5868005 (22.38 MB)\n",
      "Trainable params: 5867877 (22.38 MB)\n",
      "Non-trainable params: 128 (512.00 Byte)\n",
      "_________________________________________________________________\n"
     ]
    }
   ],
   "source": [
    "from tensorflow.keras.layers import Conv1D,MaxPooling1D,BatchNormalization,Dense,Dropout,Flatten,Input,SeparableConv1D,AveragePooling1D,SpatialDropout1D\n",
    "from tensorflow.keras.models import Sequential\n",
    "from tensorflow.keras.backend import clear_session\n",
    "from tensorflow.keras import optimizers\n",
    "num_classes = 5\n",
    "sgd=optimizers.SGD( learning_rate=0.1 )\n",
    "def HopefullNet():\n",
    "    model = Sequential()\n",
    "    clear_session()\n",
    "    model.add(Conv1D(32, 20, padding='causal', activation=\"relu\" ,input_shape = (640,2)))\n",
    "    model.add(BatchNormalization())\n",
    "    \n",
    "    model.add(Conv1D(32, 20, padding='valid', activation=\"relu\"))\n",
    "    model.add(BatchNormalization())\n",
    "    model.add(SpatialDropout1D(0.25))\n",
    "    \n",
    "    model.add(Conv1D(32, 6, padding='valid', activation=\"relu\"))\n",
    "    model.add(AveragePooling1D(pool_size=2, strides=1))\n",
    "    \n",
    "    model.add(Conv1D(32, 6, padding='valid', activation=\"relu\"))\n",
    "    model.add(SpatialDropout1D(0.25))    \n",
    "    \n",
    "    model.add(Flatten())\n",
    "    model.add(Dense(296, activation='relu'))\n",
    "    model.add(Dropout(0.25))\n",
    "    model.add(Dense(148, activation='relu'))\n",
    "    model.add(Dropout(0.25))\n",
    "    model.add(Dense(74, activation='relu'))\n",
    "    model.add(Dropout(0.25))\n",
    "    model.add(Dense(num_classes, activation='softmax'))\n",
    "    model.compile(sgd, loss='categorical_crossentropy', metrics=['accuracy'])\n",
    "    return model\n",
    "\n",
    "model = HopefullNet()\n",
    "model.summary()"
   ]
  },
  {
   "cell_type": "code",
   "execution_count": 10,
   "id": "d7847df7-0a74-42d0-8604-b62c090f1564",
   "metadata": {},
   "outputs": [
    {
     "name": "stdout",
     "output_type": "stream",
     "text": [
      "Epoch 1/50\n",
      "587/587 [==============================] - 131s 218ms/step - loss: 1.1864 - accuracy: 0.5025 - val_loss: 1.0963 - val_accuracy: 0.5370\n",
      "Epoch 2/50\n",
      "587/587 [==============================] - 124s 211ms/step - loss: 1.1100 - accuracy: 0.5321 - val_loss: 1.0671 - val_accuracy: 0.5551\n",
      "Epoch 3/50\n",
      "587/587 [==============================] - 118s 201ms/step - loss: 1.0853 - accuracy: 0.5433 - val_loss: 1.0546 - val_accuracy: 0.5556\n",
      "Epoch 4/50\n",
      "587/587 [==============================] - 104s 178ms/step - loss: 1.0679 - accuracy: 0.5532 - val_loss: 1.0388 - val_accuracy: 0.5637\n",
      "Epoch 5/50\n",
      "587/587 [==============================] - 74s 127ms/step - loss: 1.0529 - accuracy: 0.5603 - val_loss: 1.0295 - val_accuracy: 0.5714\n",
      "Epoch 6/50\n",
      "587/587 [==============================] - 56s 96ms/step - loss: 1.0381 - accuracy: 0.5678 - val_loss: 1.0138 - val_accuracy: 0.5773\n",
      "Epoch 7/50\n",
      "587/587 [==============================] - 54s 92ms/step - loss: 1.0226 - accuracy: 0.5751 - val_loss: 0.9981 - val_accuracy: 0.5852\n",
      "Epoch 8/50\n",
      "587/587 [==============================] - 54s 92ms/step - loss: 1.0030 - accuracy: 0.5845 - val_loss: 0.9723 - val_accuracy: 0.6015\n",
      "Epoch 9/50\n",
      "587/587 [==============================] - 55s 93ms/step - loss: 0.9807 - accuracy: 0.5953 - val_loss: 0.9570 - val_accuracy: 0.6056\n",
      "Epoch 10/50\n",
      "587/587 [==============================] - 55s 94ms/step - loss: 0.9543 - accuracy: 0.6083 - val_loss: 0.9225 - val_accuracy: 0.6262\n",
      "Epoch 11/50\n",
      "587/587 [==============================] - 54s 92ms/step - loss: 0.9205 - accuracy: 0.6247 - val_loss: 0.8904 - val_accuracy: 0.6376\n",
      "Epoch 12/50\n",
      "587/587 [==============================] - 54s 93ms/step - loss: 0.8806 - accuracy: 0.6434 - val_loss: 0.8465 - val_accuracy: 0.6660\n",
      "Epoch 13/50\n",
      "587/587 [==============================] - 54s 92ms/step - loss: 0.8329 - accuracy: 0.6663 - val_loss: 0.8146 - val_accuracy: 0.6782\n",
      "Epoch 14/50\n",
      "587/587 [==============================] - 54s 92ms/step - loss: 0.7811 - accuracy: 0.6884 - val_loss: 0.7600 - val_accuracy: 0.7015\n",
      "Epoch 15/50\n",
      "587/587 [==============================] - 55s 93ms/step - loss: 0.7306 - accuracy: 0.7120 - val_loss: 0.7185 - val_accuracy: 0.7204\n",
      "Epoch 16/50\n",
      "587/587 [==============================] - 55s 94ms/step - loss: 0.6764 - accuracy: 0.7360 - val_loss: 0.6758 - val_accuracy: 0.7397\n",
      "Epoch 17/50\n",
      "587/587 [==============================] - 56s 95ms/step - loss: 0.6254 - accuracy: 0.7589 - val_loss: 0.6358 - val_accuracy: 0.7589\n",
      "Epoch 18/50\n",
      "587/587 [==============================] - 55s 94ms/step - loss: 0.5748 - accuracy: 0.7811 - val_loss: 0.6100 - val_accuracy: 0.7678\n",
      "Epoch 19/50\n",
      "587/587 [==============================] - 54s 92ms/step - loss: 0.5285 - accuracy: 0.8003 - val_loss: 0.5685 - val_accuracy: 0.7889\n",
      "Epoch 20/50\n",
      "587/587 [==============================] - 54s 92ms/step - loss: 0.4866 - accuracy: 0.8178 - val_loss: 0.5360 - val_accuracy: 0.8027\n",
      "Epoch 21/50\n",
      "587/587 [==============================] - 55s 94ms/step - loss: 0.4465 - accuracy: 0.8342 - val_loss: 0.5157 - val_accuracy: 0.8090\n",
      "Epoch 22/50\n",
      "587/587 [==============================] - 55s 93ms/step - loss: 0.4118 - accuracy: 0.8480 - val_loss: 0.4956 - val_accuracy: 0.8186\n",
      "Epoch 23/50\n",
      "587/587 [==============================] - 55s 94ms/step - loss: 0.3792 - accuracy: 0.8611 - val_loss: 0.4748 - val_accuracy: 0.8259\n",
      "Epoch 24/50\n",
      "587/587 [==============================] - 56s 95ms/step - loss: 0.3537 - accuracy: 0.8715 - val_loss: 0.4721 - val_accuracy: 0.8297\n",
      "Epoch 25/50\n",
      "587/587 [==============================] - 60s 103ms/step - loss: 0.3265 - accuracy: 0.8821 - val_loss: 0.4430 - val_accuracy: 0.8413\n",
      "Epoch 26/50\n",
      "587/587 [==============================] - 63s 107ms/step - loss: 0.3047 - accuracy: 0.8902 - val_loss: 0.4268 - val_accuracy: 0.8458\n",
      "Epoch 27/50\n",
      "587/587 [==============================] - 62s 105ms/step - loss: 0.2851 - accuracy: 0.8984 - val_loss: 0.4176 - val_accuracy: 0.8509\n",
      "Epoch 28/50\n",
      "587/587 [==============================] - 60s 102ms/step - loss: 0.2647 - accuracy: 0.9058 - val_loss: 0.4200 - val_accuracy: 0.8503\n",
      "Epoch 29/50\n",
      "587/587 [==============================] - 57s 97ms/step - loss: 0.2494 - accuracy: 0.9116 - val_loss: 0.4100 - val_accuracy: 0.8567\n",
      "Epoch 30/50\n",
      "587/587 [==============================] - 56s 95ms/step - loss: 0.2354 - accuracy: 0.9170 - val_loss: 0.3994 - val_accuracy: 0.8602\n",
      "Epoch 31/50\n",
      "587/587 [==============================] - 57s 97ms/step - loss: 0.2231 - accuracy: 0.9217 - val_loss: 0.3894 - val_accuracy: 0.8645\n",
      "Epoch 32/50\n",
      "587/587 [==============================] - 56s 95ms/step - loss: 0.2132 - accuracy: 0.9253 - val_loss: 0.3911 - val_accuracy: 0.8641\n",
      "Epoch 33/50\n",
      "587/587 [==============================] - 55s 94ms/step - loss: 0.2018 - accuracy: 0.9299 - val_loss: 0.3721 - val_accuracy: 0.8714\n",
      "Epoch 34/50\n",
      "587/587 [==============================] - 56s 95ms/step - loss: 0.1917 - accuracy: 0.9336 - val_loss: 0.3684 - val_accuracy: 0.8753\n",
      "Epoch 35/50\n",
      "587/587 [==============================] - 56s 96ms/step - loss: 0.1833 - accuracy: 0.9367 - val_loss: 0.3692 - val_accuracy: 0.8737\n",
      "Epoch 36/50\n",
      "587/587 [==============================] - 55s 93ms/step - loss: 0.1739 - accuracy: 0.9397 - val_loss: 0.3732 - val_accuracy: 0.8747\n",
      "Epoch 37/50\n",
      "587/587 [==============================] - 56s 95ms/step - loss: 0.1676 - accuracy: 0.9424 - val_loss: 0.3662 - val_accuracy: 0.8772\n",
      "Epoch 38/50\n",
      "587/587 [==============================] - 56s 95ms/step - loss: 0.1619 - accuracy: 0.9441 - val_loss: 0.3536 - val_accuracy: 0.8792\n",
      "Epoch 39/50\n",
      "587/587 [==============================] - 56s 95ms/step - loss: 0.1533 - accuracy: 0.9473 - val_loss: 0.3513 - val_accuracy: 0.8820\n",
      "Epoch 40/50\n",
      "587/587 [==============================] - 56s 95ms/step - loss: 0.1509 - accuracy: 0.9482 - val_loss: 0.3571 - val_accuracy: 0.8805\n",
      "Epoch 41/50\n",
      "587/587 [==============================] - 57s 97ms/step - loss: 0.1432 - accuracy: 0.9512 - val_loss: 0.3461 - val_accuracy: 0.8852\n",
      "Epoch 42/50\n",
      "587/587 [==============================] - 56s 94ms/step - loss: 0.1421 - accuracy: 0.9522 - val_loss: 0.3381 - val_accuracy: 0.8876\n",
      "Epoch 43/50\n",
      "587/587 [==============================] - 55s 93ms/step - loss: 0.1353 - accuracy: 0.9540 - val_loss: 0.3378 - val_accuracy: 0.8883\n",
      "Epoch 44/50\n",
      "587/587 [==============================] - 56s 96ms/step - loss: 0.1317 - accuracy: 0.9549 - val_loss: 0.3392 - val_accuracy: 0.8872\n",
      "Epoch 45/50\n",
      "587/587 [==============================] - 55s 94ms/step - loss: 0.1261 - accuracy: 0.9572 - val_loss: 0.3476 - val_accuracy: 0.8856\n",
      "Epoch 46/50\n",
      "587/587 [==============================] - 56s 95ms/step - loss: 0.1242 - accuracy: 0.9580 - val_loss: 0.3340 - val_accuracy: 0.8898\n",
      "Epoch 47/50\n",
      "587/587 [==============================] - 55s 94ms/step - loss: 0.1189 - accuracy: 0.9598 - val_loss: 0.3449 - val_accuracy: 0.8893\n",
      "Epoch 48/50\n",
      "587/587 [==============================] - 57s 97ms/step - loss: 0.1171 - accuracy: 0.9605 - val_loss: 0.3310 - val_accuracy: 0.8929\n",
      "Epoch 49/50\n",
      "587/587 [==============================] - 55s 93ms/step - loss: 0.1111 - accuracy: 0.9624 - val_loss: 0.3483 - val_accuracy: 0.8891\n",
      "Epoch 50/50\n",
      "587/587 [==============================] - 56s 94ms/step - loss: 0.1109 - accuracy: 0.9626 - val_loss: 0.3337 - val_accuracy: 0.8934\n"
     ]
    },
    {
     "data": {
      "text/plain": [
       "<keras.src.callbacks.History at 0x7f70bc24e210>"
      ]
     },
     "execution_count": 10,
     "metadata": {},
     "output_type": "execute_result"
    }
   ],
   "source": [
    "training_generator = EMMDSequence(x_train, y_train, 512)\n",
    "validation_generator = EMMDSequence(x_test, y_test, 512)\n",
    "model.fit(training_generator, epochs=50, validation_data=validation_generator) "
   ]
  },
  {
   "cell_type": "code",
   "execution_count": 11,
   "id": "6aa3dbfa-ce3f-426d-936d-bacfd20cb01d",
   "metadata": {},
   "outputs": [
    {
     "name": "stdout",
     "output_type": "stream",
     "text": [
      "INFO:tensorflow:Assets written to: 202309041037/assets\n"
     ]
    },
    {
     "name": "stderr",
     "output_type": "stream",
     "text": [
      "INFO:tensorflow:Assets written to: 202309041037/assets\n"
     ]
    }
   ],
   "source": [
    "model.save('202309041037')"
   ]
  },
  {
   "cell_type": "code",
   "execution_count": 7,
   "id": "f7f5703a-adb8-46ff-8f9a-7a824b79a0af",
   "metadata": {},
   "outputs": [
    {
     "name": "stdout",
     "output_type": "stream",
     "text": [
      "Epoch 1/50\n"
     ]
    },
    {
     "name": "stderr",
     "output_type": "stream",
     "text": [
      "2023-09-04 15:12:47.544318: I tensorflow/compiler/xla/stream_executor/cuda/cuda_dnn.cc:432] Loaded cuDNN version 8600\n",
      "2023-09-04 15:12:51.140851: I tensorflow/compiler/xla/service/service.cc:168] XLA service 0x5598cb476c10 initialized for platform CUDA (this does not guarantee that XLA will be used). Devices:\n",
      "2023-09-04 15:12:51.140965: I tensorflow/compiler/xla/service/service.cc:176]   StreamExecutor device (0): NVIDIA GeForce RTX 2060, Compute Capability 7.5\n",
      "2023-09-04 15:12:51.277654: W tensorflow/compiler/xla/service/gpu/llvm_gpu_backend/gpu_backend_lib.cc:543] Can't find libdevice directory ${CUDA_DIR}/nvvm/libdevice. This may result in compilation or runtime failures, if the program we try to run uses routines from libdevice.\n",
      "Searched for CUDA in the following directories:\n",
      "  ./cuda_sdk_lib\n",
      "  /usr/local/cuda-11.8\n",
      "  /usr/local/cuda\n",
      "  .\n",
      "You can choose the search directory by setting xla_gpu_cuda_data_dir in HloModule's DebugOptions.  For most apps, setting the environment variable XLA_FLAGS=--xla_gpu_cuda_data_dir=/path/to/cuda will work.\n",
      "2023-09-04 15:12:51.401758: I ./tensorflow/compiler/jit/device_compiler.h:186] Compiled cluster using XLA!  This line is logged at most once for the lifetime of the process.\n"
     ]
    },
    {
     "name": "stdout",
     "output_type": "stream",
     "text": [
      "587/587 [==============================] - 166s 267ms/step - loss: 0.1082 - accuracy: 0.9638 - val_loss: 0.3350 - val_accuracy: 0.8922\n",
      "Epoch 2/50\n",
      "587/587 [==============================] - 137s 233ms/step - loss: 0.1053 - accuracy: 0.9641 - val_loss: 0.3370 - val_accuracy: 0.8943\n",
      "Epoch 3/50\n",
      "587/587 [==============================] - 144s 245ms/step - loss: 0.1024 - accuracy: 0.9654 - val_loss: 0.3232 - val_accuracy: 0.8956\n",
      "Epoch 4/50\n",
      "587/587 [==============================] - 105s 179ms/step - loss: 0.1003 - accuracy: 0.9664 - val_loss: 0.3318 - val_accuracy: 0.8950\n",
      "Epoch 5/50\n",
      "587/587 [==============================] - 76s 129ms/step - loss: 0.0995 - accuracy: 0.9666 - val_loss: 0.3269 - val_accuracy: 0.8965\n",
      "Epoch 6/50\n",
      "587/587 [==============================] - 65s 111ms/step - loss: 0.0965 - accuracy: 0.9676 - val_loss: 0.3255 - val_accuracy: 0.8971\n",
      "Epoch 7/50\n",
      "587/587 [==============================] - 57s 98ms/step - loss: 0.0943 - accuracy: 0.9686 - val_loss: 0.3182 - val_accuracy: 0.8987\n",
      "Epoch 8/50\n",
      "587/587 [==============================] - 60s 102ms/step - loss: 0.0903 - accuracy: 0.9699 - val_loss: 0.3275 - val_accuracy: 0.8989\n",
      "Epoch 9/50\n",
      "587/587 [==============================] - 60s 101ms/step - loss: 0.0899 - accuracy: 0.9698 - val_loss: 0.3160 - val_accuracy: 0.9003\n",
      "Epoch 10/50\n",
      "587/587 [==============================] - 58s 99ms/step - loss: 0.0896 - accuracy: 0.9700 - val_loss: 0.3283 - val_accuracy: 0.8971\n",
      "Epoch 11/50\n",
      "587/587 [==============================] - 57s 96ms/step - loss: 0.0870 - accuracy: 0.9707 - val_loss: 0.3292 - val_accuracy: 0.8976\n",
      "Epoch 12/50\n",
      "587/587 [==============================] - 56s 96ms/step - loss: 0.0866 - accuracy: 0.9711 - val_loss: 0.3225 - val_accuracy: 0.8993\n",
      "Epoch 13/50\n",
      "587/587 [==============================] - 56s 96ms/step - loss: 0.0841 - accuracy: 0.9717 - val_loss: 0.3222 - val_accuracy: 0.9002\n",
      "Epoch 14/50\n",
      "587/587 [==============================] - 56s 95ms/step - loss: 0.0824 - accuracy: 0.9723 - val_loss: 0.3317 - val_accuracy: 0.8981\n",
      "Epoch 15/50\n",
      "587/587 [==============================] - 59s 101ms/step - loss: 0.0813 - accuracy: 0.9729 - val_loss: 0.3133 - val_accuracy: 0.9026\n",
      "Epoch 16/50\n",
      "587/587 [==============================] - 57s 97ms/step - loss: 0.0796 - accuracy: 0.9735 - val_loss: 0.3104 - val_accuracy: 0.9027\n",
      "Epoch 17/50\n",
      "587/587 [==============================] - 57s 97ms/step - loss: 0.0794 - accuracy: 0.9736 - val_loss: 0.3149 - val_accuracy: 0.9003\n",
      "Epoch 18/50\n",
      "587/587 [==============================] - 56s 95ms/step - loss: 0.0771 - accuracy: 0.9744 - val_loss: 0.3048 - val_accuracy: 0.9048\n",
      "Epoch 19/50\n",
      "587/587 [==============================] - 57s 97ms/step - loss: 0.0777 - accuracy: 0.9741 - val_loss: 0.3078 - val_accuracy: 0.9043\n",
      "Epoch 20/50\n",
      "587/587 [==============================] - 56s 96ms/step - loss: 0.0744 - accuracy: 0.9754 - val_loss: 0.3103 - val_accuracy: 0.9045\n",
      "Epoch 21/50\n",
      "587/587 [==============================] - 56s 95ms/step - loss: 0.0738 - accuracy: 0.9753 - val_loss: 0.3128 - val_accuracy: 0.9034\n",
      "Epoch 22/50\n",
      "587/587 [==============================] - 56s 96ms/step - loss: 0.0722 - accuracy: 0.9758 - val_loss: 0.3140 - val_accuracy: 0.9024\n",
      "Epoch 23/50\n",
      "587/587 [==============================] - 56s 95ms/step - loss: 0.0723 - accuracy: 0.9759 - val_loss: 0.3054 - val_accuracy: 0.9046\n",
      "Epoch 24/50\n",
      "587/587 [==============================] - 57s 96ms/step - loss: 0.0708 - accuracy: 0.9767 - val_loss: 0.3120 - val_accuracy: 0.9037\n",
      "Epoch 25/50\n",
      "587/587 [==============================] - 57s 96ms/step - loss: 0.0680 - accuracy: 0.9775 - val_loss: 0.3163 - val_accuracy: 0.9045\n",
      "Epoch 26/50\n",
      "587/587 [==============================] - 56s 96ms/step - loss: 0.0685 - accuracy: 0.9773 - val_loss: 0.3093 - val_accuracy: 0.9049\n",
      "Epoch 27/50\n",
      "587/587 [==============================] - 57s 97ms/step - loss: 0.0674 - accuracy: 0.9776 - val_loss: 0.3137 - val_accuracy: 0.9048\n",
      "Epoch 28/50\n",
      "587/587 [==============================] - 56s 96ms/step - loss: 0.0679 - accuracy: 0.9774 - val_loss: 0.3108 - val_accuracy: 0.9066\n",
      "Epoch 29/50\n",
      "587/587 [==============================] - 56s 96ms/step - loss: 0.0656 - accuracy: 0.9780 - val_loss: 0.3170 - val_accuracy: 0.9044\n",
      "Epoch 30/50\n",
      "587/587 [==============================] - 56s 95ms/step - loss: 0.0649 - accuracy: 0.9785 - val_loss: 0.3124 - val_accuracy: 0.9043\n",
      "Epoch 31/50\n",
      "587/587 [==============================] - 56s 96ms/step - loss: 0.0648 - accuracy: 0.9784 - val_loss: 0.3020 - val_accuracy: 0.9071\n",
      "Epoch 32/50\n",
      "587/587 [==============================] - 56s 96ms/step - loss: 0.0650 - accuracy: 0.9783 - val_loss: 0.3090 - val_accuracy: 0.9061\n",
      "Epoch 33/50\n",
      "587/587 [==============================] - 57s 98ms/step - loss: 0.0623 - accuracy: 0.9797 - val_loss: 0.3120 - val_accuracy: 0.9067\n",
      "Epoch 34/50\n",
      "587/587 [==============================] - 56s 95ms/step - loss: 0.0621 - accuracy: 0.9794 - val_loss: 0.2998 - val_accuracy: 0.9085\n",
      "Epoch 35/50\n",
      "587/587 [==============================] - 56s 96ms/step - loss: 0.0619 - accuracy: 0.9792 - val_loss: 0.3051 - val_accuracy: 0.9087\n",
      "Epoch 36/50\n",
      "587/587 [==============================] - 57s 97ms/step - loss: 0.0611 - accuracy: 0.9796 - val_loss: 0.3122 - val_accuracy: 0.9078\n",
      "Epoch 37/50\n",
      "587/587 [==============================] - 57s 96ms/step - loss: 0.0587 - accuracy: 0.9803 - val_loss: 0.2970 - val_accuracy: 0.9106\n",
      "Epoch 38/50\n",
      "587/587 [==============================] - 57s 96ms/step - loss: 0.0583 - accuracy: 0.9809 - val_loss: 0.3118 - val_accuracy: 0.9088\n",
      "Epoch 39/50\n",
      "587/587 [==============================] - 55s 94ms/step - loss: 0.0588 - accuracy: 0.9805 - val_loss: 0.3023 - val_accuracy: 0.9111\n",
      "Epoch 40/50\n",
      "587/587 [==============================] - 57s 96ms/step - loss: 0.0574 - accuracy: 0.9812 - val_loss: 0.3127 - val_accuracy: 0.9090\n",
      "Epoch 41/50\n",
      "587/587 [==============================] - 56s 95ms/step - loss: 0.0572 - accuracy: 0.9810 - val_loss: 0.3015 - val_accuracy: 0.9110\n",
      "Epoch 42/50\n",
      "587/587 [==============================] - 55s 94ms/step - loss: 0.0563 - accuracy: 0.9814 - val_loss: 0.3091 - val_accuracy: 0.9090\n",
      "Epoch 43/50\n",
      "587/587 [==============================] - 56s 96ms/step - loss: 0.0564 - accuracy: 0.9813 - val_loss: 0.3060 - val_accuracy: 0.9095\n",
      "Epoch 44/50\n",
      "587/587 [==============================] - 57s 97ms/step - loss: 0.0547 - accuracy: 0.9820 - val_loss: 0.2999 - val_accuracy: 0.9111\n",
      "Epoch 45/50\n",
      "587/587 [==============================] - 60s 102ms/step - loss: 0.0552 - accuracy: 0.9818 - val_loss: 0.2957 - val_accuracy: 0.9123\n",
      "Epoch 46/50\n",
      "587/587 [==============================] - 55s 94ms/step - loss: 0.0545 - accuracy: 0.9822 - val_loss: 0.3015 - val_accuracy: 0.9125\n",
      "Epoch 47/50\n",
      "587/587 [==============================] - 58s 98ms/step - loss: 0.0533 - accuracy: 0.9825 - val_loss: 0.3080 - val_accuracy: 0.9109\n",
      "Epoch 48/50\n",
      "587/587 [==============================] - 57s 98ms/step - loss: 0.0539 - accuracy: 0.9822 - val_loss: 0.2969 - val_accuracy: 0.9128\n",
      "Epoch 49/50\n",
      "587/587 [==============================] - 56s 95ms/step - loss: 0.0530 - accuracy: 0.9824 - val_loss: 0.3006 - val_accuracy: 0.9120\n",
      "Epoch 50/50\n",
      "587/587 [==============================] - 57s 96ms/step - loss: 0.0531 - accuracy: 0.9824 - val_loss: 0.2910 - val_accuracy: 0.9140\n"
     ]
    },
    {
     "data": {
      "text/plain": [
       "<keras.src.callbacks.History at 0x7f614a5a38d0>"
      ]
     },
     "execution_count": 7,
     "metadata": {},
     "output_type": "execute_result"
    }
   ],
   "source": [
    "import keras\n",
    "model = keras.models.load_model('202309041037')\n",
    "training_generator = EMMDSequence(x_train, y_train, 512)\n",
    "validation_generator = EMMDSequence(x_test, y_test, 512)\n",
    "model.fit(training_generator, epochs=50, validation_data=validation_generator) "
   ]
  },
  {
   "cell_type": "code",
   "execution_count": 8,
   "id": "960fcf5f-ee00-47eb-958b-7f94598a3eb6",
   "metadata": {},
   "outputs": [
    {
     "name": "stdout",
     "output_type": "stream",
     "text": [
      "INFO:tensorflow:Assets written to: 202309041606/assets\n"
     ]
    },
    {
     "name": "stderr",
     "output_type": "stream",
     "text": [
      "INFO:tensorflow:Assets written to: 202309041606/assets\n"
     ]
    }
   ],
   "source": [
    "model.save('202309041606')"
   ]
  },
  {
   "cell_type": "code",
   "execution_count": null,
   "id": "a5025484-25fe-4e69-b21e-93de349b0280",
   "metadata": {},
   "outputs": [],
   "source": []
  }
 ],
 "metadata": {
  "kernelspec": {
   "display_name": "Python 3 (ipykernel)",
   "language": "python",
   "name": "python3"
  },
  "language_info": {
   "codemirror_mode": {
    "name": "ipython",
    "version": 3
   },
   "file_extension": ".py",
   "mimetype": "text/x-python",
   "name": "python",
   "nbconvert_exporter": "python",
   "pygments_lexer": "ipython3",
   "version": "3.11.5"
  }
 },
 "nbformat": 4,
 "nbformat_minor": 5
}
