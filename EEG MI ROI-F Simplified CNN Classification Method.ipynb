{
 "cells": [
  {
   "cell_type": "code",
   "execution_count": 1,
   "id": "a596c2c6-0962-4f29-bd10-87414d3d8111",
   "metadata": {},
   "outputs": [
    {
     "name": "stdout",
     "output_type": "stream",
     "text": [
      "343323\n",
      "343323\n"
     ]
    }
   ],
   "source": [
    "import numpy as np\n",
    "import os\n",
    "from pathlib import Path\n",
    "paths_list=[]\n",
    "labels_list=[]\n",
    "for i in range (1, 110):\n",
    "    if i != 100 and i != 92 and i != 88 :\n",
    "        for j in range(3, 15):\n",
    "            for r in range(0, 400):\n",
    "                if os.path.isfile(f\"EEG MI ROI-F/datasets/S{str(i).rjust(3, '0')}R{str(j).rjust(2, '0')}{str(r).rjust(3, '0')}.npy\"):\n",
    "                    paths_list.append(f\"EEG MI ROI-F/datasets/S{str(i).rjust(3, '0')}R{str(j).rjust(2, '0')}{str(r).rjust(3, '0')}.npy\")\n",
    "labels_list = np.load('EEG MI ROI-F/labels_list.npy')\n",
    "print(len(paths_list))\n",
    "print(len(labels_list))\n",
    "# print(paths_list)"
   ]
  },
  {
   "cell_type": "code",
   "execution_count": 2,
   "id": "773032f4-aedd-4a7f-956b-94eb4ad26ab3",
   "metadata": {},
   "outputs": [],
   "source": [
    "from sklearn import model_selection\n",
    "def train_test_split(series_list, labels_list):\n",
    "    x_train, x_test, y_train, y_test = model_selection.train_test_split(\n",
    "        series_list, labels_list, test_size=0.125, random_state=42, shuffle=True\n",
    "    )\n",
    "    return x_train, x_test, y_train, y_test\n",
    "x_train, x_test, y_train, y_test = train_test_split(paths_list, labels_list)"
   ]
  },
  {
   "cell_type": "code",
   "execution_count": 3,
   "id": "201ae65a-8111-420e-b252-0a590fa19689",
   "metadata": {},
   "outputs": [
    {
     "name": "stderr",
     "output_type": "stream",
     "text": [
      "2023-09-04 16:58:01.474271: I tensorflow/core/platform/cpu_feature_guard.cc:182] This TensorFlow binary is optimized to use available CPU instructions in performance-critical operations.\n",
      "To enable the following instructions: AVX2 FMA, in other operations, rebuild TensorFlow with the appropriate compiler flags.\n",
      "2023-09-04 16:58:02.165833: W tensorflow/compiler/tf2tensorrt/utils/py_utils.cc:38] TF-TRT Warning: Could not find TensorRT\n"
     ]
    }
   ],
   "source": [
    "import tensorflow as tf\n",
    "import math\n",
    "class EMMDSequence(tf.keras.utils.Sequence):\n",
    "\n",
    "    def __init__(self, x_set, y_set, batch_size):\n",
    "        self.x, self.y = x_set, y_set\n",
    "        self.batch_size = batch_size\n",
    "\n",
    "    def __len__(self):\n",
    "        return math.ceil(len(self.x) / self.batch_size)\n",
    "\n",
    "    def __getitem__(self, idx):\n",
    "        low = idx * self.batch_size\n",
    "        # Cap upper bound at array length; the last batch may be smaller\n",
    "        # if the total number of items is not a multiple of batch size.\n",
    "        high = min(low + self.batch_size, len(self.x))\n",
    "        batch_x = self.x[low:high]\n",
    "        batch_y = self.y[low:high]\n",
    "\n",
    "        return np.array([np.load(file_name) for file_name in batch_x]), np.array(batch_y)"
   ]
  },
  {
   "cell_type": "code",
   "execution_count": 6,
   "id": "4e0902bb-8a7b-4954-86e4-b2554e51dfea",
   "metadata": {},
   "outputs": [
    {
     "name": "stdout",
     "output_type": "stream",
     "text": [
      "Model: \"sequential\"\n",
      "_________________________________________________________________\n",
      " Layer (type)                Output Shape              Param #   \n",
      "=================================================================\n",
      " conv1d (Conv1D)             (None, 630, 25)           575       \n",
      "                                                                 \n",
      " batch_normalization (Batch  (None, 630, 25)           100       \n",
      " Normalization)                                                  \n",
      "                                                                 \n",
      " spatial_dropout1d (Spatial  (None, 630, 25)           0         \n",
      " Dropout1D)                                                      \n",
      "                                                                 \n",
      " conv1d_1 (Conv1D)           (None, 630, 25)           650       \n",
      "                                                                 \n",
      " max_pooling1d (MaxPooling1  (None, 210, 25)           0         \n",
      " D)                                                              \n",
      "                                                                 \n",
      " batch_normalization_1 (Bat  (None, 210, 25)           100       \n",
      " chNormalization)                                                \n",
      "                                                                 \n",
      " conv1d_2 (Conv1D)           (None, 200, 50)           13800     \n",
      "                                                                 \n",
      " max_pooling1d_1 (MaxPoolin  (None, 66, 50)            0         \n",
      " g1D)                                                            \n",
      "                                                                 \n",
      " batch_normalization_2 (Bat  (None, 66, 50)            200       \n",
      " chNormalization)                                                \n",
      "                                                                 \n",
      " spatial_dropout1d_1 (Spati  (None, 66, 50)            0         \n",
      " alDropout1D)                                                    \n",
      "                                                                 \n",
      " conv1d_3 (Conv1D)           (None, 56, 100)           55100     \n",
      "                                                                 \n",
      " max_pooling1d_2 (MaxPoolin  (None, 18, 100)           0         \n",
      " g1D)                                                            \n",
      "                                                                 \n",
      " batch_normalization_3 (Bat  (None, 18, 100)           400       \n",
      " chNormalization)                                                \n",
      "                                                                 \n",
      " spatial_dropout1d_2 (Spati  (None, 18, 100)           0         \n",
      " alDropout1D)                                                    \n",
      "                                                                 \n",
      " conv1d_4 (Conv1D)           (None, 8, 200)            220200    \n",
      "                                                                 \n",
      " max_pooling1d_3 (MaxPoolin  (None, 4, 200)            0         \n",
      " g1D)                                                            \n",
      "                                                                 \n",
      " batch_normalization_4 (Bat  (None, 4, 200)            800       \n",
      " chNormalization)                                                \n",
      "                                                                 \n",
      " flatten (Flatten)           (None, 800)               0         \n",
      "                                                                 \n",
      " dense (Dense)               (None, 5)                 4005      \n",
      "                                                                 \n",
      "=================================================================\n",
      "Total params: 295930 (1.13 MB)\n",
      "Trainable params: 295130 (1.13 MB)\n",
      "Non-trainable params: 800 (3.12 KB)\n",
      "_________________________________________________________________\n"
     ]
    }
   ],
   "source": [
    "from tensorflow.keras.layers import Conv1D,MaxPooling1D,BatchNormalization,Dense,SpatialDropout1D,Flatten,Input,SeparableConv1D,AveragePooling1D\n",
    "from tensorflow.keras.models import Sequential\n",
    "from tensorflow.keras.backend import clear_session\n",
    "from tensorflow.keras import optimizers\n",
    "num_classes = 5\n",
    "sgd=optimizers.SGD(learning_rate=0.1)\n",
    "def SimplifiedCNN():\n",
    "    model = Sequential()\n",
    "    clear_session()\n",
    "    model.add(Conv1D(25, 11, strides=1, padding='valid', activation=\"relu\" ,input_shape = (640,2)))\n",
    "    model.add(BatchNormalization())\n",
    "    model.add(SpatialDropout1D(0.25))\n",
    "    \n",
    "    model.add(Conv1D(25, 1, strides=1, padding='valid', activation=\"relu\"))\n",
    "    model.add(MaxPooling1D(pool_size=3, strides=3))\n",
    "    model.add(BatchNormalization())\n",
    "\n",
    "    model.add(Conv1D(50, 11, strides=1, padding='valid', activation=\"relu\"))\n",
    "    model.add(MaxPooling1D(pool_size=3, strides=3))\n",
    "    model.add(BatchNormalization())\n",
    "    model.add(SpatialDropout1D(0.25))\n",
    "    \n",
    "    model.add(Conv1D(100, 11, strides=1, padding='valid', activation=\"relu\"))\n",
    "    model.add(MaxPooling1D(pool_size=3, strides=3))\n",
    "    model.add(BatchNormalization())\n",
    "    model.add(SpatialDropout1D(0.25))\n",
    "    \n",
    "    model.add(Conv1D(200, 11, strides=1, padding='valid', activation=\"relu\"))\n",
    "    model.add(MaxPooling1D(pool_size=2, strides=2))\n",
    "    model.add(BatchNormalization())\n",
    "    \n",
    "    model.add(Flatten())\n",
    "    model.add(Dense(num_classes, activation='softmax'))\n",
    "    model.compile(sgd, loss='categorical_crossentropy', metrics=['accuracy'])\n",
    "    return model\n",
    "\n",
    "model = SimplifiedCNN()\n",
    "model.summary()"
   ]
  },
  {
   "cell_type": "code",
   "execution_count": 7,
   "id": "d7847df7-0a74-42d0-8604-b62c090f1564",
   "metadata": {
    "scrolled": true
   },
   "outputs": [
    {
     "name": "stdout",
     "output_type": "stream",
     "text": [
      "Epoch 1/50\n",
      "587/587 [==============================] - 89s 147ms/step - loss: 1.2202 - accuracy: 0.4859 - val_loss: 1.1150 - val_accuracy: 0.5209\n",
      "Epoch 2/50\n",
      "587/587 [==============================] - 57s 96ms/step - loss: 1.1250 - accuracy: 0.5223 - val_loss: 1.0806 - val_accuracy: 0.5425\n",
      "Epoch 3/50\n",
      "587/587 [==============================] - 56s 96ms/step - loss: 1.1007 - accuracy: 0.5356 - val_loss: 1.0588 - val_accuracy: 0.5566\n",
      "Epoch 4/50\n",
      "587/587 [==============================] - 57s 98ms/step - loss: 1.0837 - accuracy: 0.5442 - val_loss: 1.0558 - val_accuracy: 0.5546\n",
      "Epoch 5/50\n",
      "587/587 [==============================] - 57s 96ms/step - loss: 1.0697 - accuracy: 0.5495 - val_loss: 1.0410 - val_accuracy: 0.5641\n",
      "Epoch 6/50\n",
      "587/587 [==============================] - 56s 95ms/step - loss: 1.0590 - accuracy: 0.5555 - val_loss: 1.0302 - val_accuracy: 0.5717\n",
      "Epoch 7/50\n",
      "587/587 [==============================] - 56s 95ms/step - loss: 1.0495 - accuracy: 0.5607 - val_loss: 1.0242 - val_accuracy: 0.5711\n",
      "Epoch 8/50\n",
      "587/587 [==============================] - 56s 95ms/step - loss: 1.0411 - accuracy: 0.5644 - val_loss: 1.0203 - val_accuracy: 0.5749\n",
      "Epoch 9/50\n",
      "587/587 [==============================] - 57s 97ms/step - loss: 1.0321 - accuracy: 0.5687 - val_loss: 1.0058 - val_accuracy: 0.5818\n",
      "Epoch 10/50\n",
      "587/587 [==============================] - 57s 97ms/step - loss: 1.0248 - accuracy: 0.5726 - val_loss: 1.0133 - val_accuracy: 0.5745\n",
      "Epoch 11/50\n",
      "587/587 [==============================] - 57s 97ms/step - loss: 1.0169 - accuracy: 0.5760 - val_loss: 1.0041 - val_accuracy: 0.5819\n",
      "Epoch 12/50\n",
      "587/587 [==============================] - 56s 96ms/step - loss: 1.0103 - accuracy: 0.5791 - val_loss: 0.9980 - val_accuracy: 0.5864\n",
      "Epoch 13/50\n",
      "587/587 [==============================] - 57s 97ms/step - loss: 1.0032 - accuracy: 0.5828 - val_loss: 0.9887 - val_accuracy: 0.5904\n",
      "Epoch 14/50\n",
      "587/587 [==============================] - 58s 98ms/step - loss: 0.9955 - accuracy: 0.5864 - val_loss: 0.9839 - val_accuracy: 0.5932\n",
      "Epoch 15/50\n",
      "587/587 [==============================] - 57s 97ms/step - loss: 0.9899 - accuracy: 0.5899 - val_loss: 0.9769 - val_accuracy: 0.5943\n",
      "Epoch 16/50\n",
      "587/587 [==============================] - 57s 97ms/step - loss: 0.9829 - accuracy: 0.5917 - val_loss: 0.9728 - val_accuracy: 0.5954\n",
      "Epoch 17/50\n",
      "587/587 [==============================] - 56s 95ms/step - loss: 0.9763 - accuracy: 0.5949 - val_loss: 0.9689 - val_accuracy: 0.5968\n",
      "Epoch 18/50\n",
      "587/587 [==============================] - 57s 97ms/step - loss: 0.9700 - accuracy: 0.5971 - val_loss: 0.9671 - val_accuracy: 0.5997\n",
      "Epoch 19/50\n",
      "587/587 [==============================] - 58s 98ms/step - loss: 0.9629 - accuracy: 0.6011 - val_loss: 0.9586 - val_accuracy: 0.6048\n",
      "Epoch 20/50\n",
      "587/587 [==============================] - 57s 97ms/step - loss: 0.9556 - accuracy: 0.6044 - val_loss: 0.9508 - val_accuracy: 0.6081\n",
      "Epoch 21/50\n",
      "587/587 [==============================] - 57s 97ms/step - loss: 0.9496 - accuracy: 0.6071 - val_loss: 0.9520 - val_accuracy: 0.6089\n",
      "Epoch 22/50\n",
      "587/587 [==============================] - 56s 95ms/step - loss: 0.9427 - accuracy: 0.6109 - val_loss: 0.9460 - val_accuracy: 0.6085\n",
      "Epoch 23/50\n",
      "587/587 [==============================] - 58s 98ms/step - loss: 0.9368 - accuracy: 0.6135 - val_loss: 0.9401 - val_accuracy: 0.6150\n",
      "Epoch 24/50\n",
      "587/587 [==============================] - 58s 98ms/step - loss: 0.9298 - accuracy: 0.6169 - val_loss: 0.9336 - val_accuracy: 0.6144\n",
      "Epoch 25/50\n",
      "587/587 [==============================] - 61s 103ms/step - loss: 0.9227 - accuracy: 0.6201 - val_loss: 0.9329 - val_accuracy: 0.6152\n",
      "Epoch 26/50\n",
      "587/587 [==============================] - 57s 97ms/step - loss: 0.9174 - accuracy: 0.6223 - val_loss: 0.9288 - val_accuracy: 0.6192\n",
      "Epoch 27/50\n",
      "587/587 [==============================] - 58s 98ms/step - loss: 0.9104 - accuracy: 0.6259 - val_loss: 0.9194 - val_accuracy: 0.6232\n",
      "Epoch 28/50\n",
      "587/587 [==============================] - 58s 98ms/step - loss: 0.9047 - accuracy: 0.6288 - val_loss: 0.9186 - val_accuracy: 0.6228\n",
      "Epoch 29/50\n",
      "587/587 [==============================] - 62s 105ms/step - loss: 0.8976 - accuracy: 0.6313 - val_loss: 0.9145 - val_accuracy: 0.6244\n",
      "Epoch 30/50\n",
      "587/587 [==============================] - 65s 111ms/step - loss: 0.8925 - accuracy: 0.6339 - val_loss: 0.9114 - val_accuracy: 0.6261\n",
      "Epoch 31/50\n",
      "587/587 [==============================] - 64s 109ms/step - loss: 0.8879 - accuracy: 0.6363 - val_loss: 0.9077 - val_accuracy: 0.6293\n",
      "Epoch 32/50\n",
      "587/587 [==============================] - 60s 101ms/step - loss: 0.8787 - accuracy: 0.6406 - val_loss: 0.9008 - val_accuracy: 0.6326\n",
      "Epoch 33/50\n",
      "587/587 [==============================] - 58s 98ms/step - loss: 0.8751 - accuracy: 0.6414 - val_loss: 0.8992 - val_accuracy: 0.6342\n",
      "Epoch 34/50\n",
      "587/587 [==============================] - 63s 106ms/step - loss: 0.8687 - accuracy: 0.6465 - val_loss: 0.8962 - val_accuracy: 0.6347\n",
      "Epoch 35/50\n",
      "587/587 [==============================] - 57s 97ms/step - loss: 0.8634 - accuracy: 0.6472 - val_loss: 0.8916 - val_accuracy: 0.6358\n",
      "Epoch 36/50\n",
      "587/587 [==============================] - 60s 102ms/step - loss: 0.8583 - accuracy: 0.6500 - val_loss: 0.8879 - val_accuracy: 0.6361\n",
      "Epoch 37/50\n",
      "587/587 [==============================] - 63s 107ms/step - loss: 0.8520 - accuracy: 0.6518 - val_loss: 0.8847 - val_accuracy: 0.6382\n",
      "Epoch 38/50\n",
      "587/587 [==============================] - 60s 103ms/step - loss: 0.8484 - accuracy: 0.6541 - val_loss: 0.8833 - val_accuracy: 0.6395\n",
      "Epoch 39/50\n",
      "587/587 [==============================] - 58s 98ms/step - loss: 0.8426 - accuracy: 0.6569 - val_loss: 0.8797 - val_accuracy: 0.6409\n",
      "Epoch 40/50\n",
      "587/587 [==============================] - 58s 99ms/step - loss: 0.8363 - accuracy: 0.6596 - val_loss: 0.8745 - val_accuracy: 0.6430\n",
      "Epoch 41/50\n",
      "587/587 [==============================] - 58s 99ms/step - loss: 0.8347 - accuracy: 0.6600 - val_loss: 0.8750 - val_accuracy: 0.6445\n",
      "Epoch 42/50\n",
      "587/587 [==============================] - 57s 97ms/step - loss: 0.8310 - accuracy: 0.6616 - val_loss: 0.8705 - val_accuracy: 0.6469\n",
      "Epoch 43/50\n",
      "587/587 [==============================] - 56s 96ms/step - loss: 0.8258 - accuracy: 0.6635 - val_loss: 0.8658 - val_accuracy: 0.6481\n",
      "Epoch 44/50\n",
      "587/587 [==============================] - 59s 101ms/step - loss: 0.8205 - accuracy: 0.6659 - val_loss: 0.8615 - val_accuracy: 0.6499\n",
      "Epoch 45/50\n",
      "587/587 [==============================] - 58s 99ms/step - loss: 0.8166 - accuracy: 0.6675 - val_loss: 0.8650 - val_accuracy: 0.6488\n",
      "Epoch 46/50\n",
      "587/587 [==============================] - 57s 97ms/step - loss: 0.8133 - accuracy: 0.6703 - val_loss: 0.8609 - val_accuracy: 0.6498\n",
      "Epoch 47/50\n",
      "587/587 [==============================] - 57s 97ms/step - loss: 0.8076 - accuracy: 0.6718 - val_loss: 0.8588 - val_accuracy: 0.6500\n",
      "Epoch 48/50\n",
      "587/587 [==============================] - 57s 97ms/step - loss: 0.8032 - accuracy: 0.6736 - val_loss: 0.8555 - val_accuracy: 0.6545\n",
      "Epoch 49/50\n",
      "587/587 [==============================] - 60s 102ms/step - loss: 0.8003 - accuracy: 0.6755 - val_loss: 0.8563 - val_accuracy: 0.6540\n",
      "Epoch 50/50\n",
      "587/587 [==============================] - 57s 97ms/step - loss: 0.7976 - accuracy: 0.6767 - val_loss: 0.8497 - val_accuracy: 0.6545\n"
     ]
    },
    {
     "data": {
      "text/plain": [
       "<keras.src.callbacks.History at 0x7fb51412c190>"
      ]
     },
     "execution_count": 7,
     "metadata": {},
     "output_type": "execute_result"
    }
   ],
   "source": [
    "training_generator = EMMDSequence(x_train, y_train, 512)\n",
    "validation_generator = EMMDSequence(x_test, y_test, 512)\n",
    "model.fit(training_generator, epochs=50, validation_data=validation_generator) "
   ]
  },
  {
   "cell_type": "code",
   "execution_count": 8,
   "id": "6aa3dbfa-ce3f-426d-936d-bacfd20cb01d",
   "metadata": {},
   "outputs": [
    {
     "name": "stdout",
     "output_type": "stream",
     "text": [
      "INFO:tensorflow:Assets written to: 202309041640/assets\n"
     ]
    },
    {
     "name": "stderr",
     "output_type": "stream",
     "text": [
      "INFO:tensorflow:Assets written to: 202309041640/assets\n"
     ]
    }
   ],
   "source": [
    "model.save('202309041640')"
   ]
  },
  {
   "cell_type": "code",
   "execution_count": 9,
   "id": "de86b94b-f2bb-40bb-9dc0-d6f4f4aded78",
   "metadata": {
    "scrolled": true
   },
   "outputs": [
    {
     "name": "stdout",
     "output_type": "stream",
     "text": [
      "Epoch 1/50\n",
      "587/587 [==============================] - 60s 101ms/step - loss: 0.7936 - accuracy: 0.6781 - val_loss: 0.8474 - val_accuracy: 0.6582\n",
      "Epoch 2/50\n",
      "587/587 [==============================] - 58s 98ms/step - loss: 0.7918 - accuracy: 0.6797 - val_loss: 0.8488 - val_accuracy: 0.6550\n",
      "Epoch 3/50\n",
      "587/587 [==============================] - 58s 99ms/step - loss: 0.7878 - accuracy: 0.6804 - val_loss: 0.8482 - val_accuracy: 0.6549\n",
      "Epoch 4/50\n",
      "587/587 [==============================] - 58s 99ms/step - loss: 0.7841 - accuracy: 0.6834 - val_loss: 0.8415 - val_accuracy: 0.6595\n",
      "Epoch 5/50\n",
      "587/587 [==============================] - 58s 98ms/step - loss: 0.7811 - accuracy: 0.6842 - val_loss: 0.8399 - val_accuracy: 0.6603\n",
      "Epoch 6/50\n",
      "587/587 [==============================] - 59s 101ms/step - loss: 0.7802 - accuracy: 0.6845 - val_loss: 0.8420 - val_accuracy: 0.6594\n",
      "Epoch 7/50\n",
      "587/587 [==============================] - 57s 98ms/step - loss: 0.7747 - accuracy: 0.6869 - val_loss: 0.8426 - val_accuracy: 0.6599\n",
      "Epoch 8/50\n",
      "587/587 [==============================] - 57s 97ms/step - loss: 0.7718 - accuracy: 0.6876 - val_loss: 0.8395 - val_accuracy: 0.6589\n",
      "Epoch 9/50\n",
      "587/587 [==============================] - 60s 102ms/step - loss: 0.7718 - accuracy: 0.6876 - val_loss: 0.8364 - val_accuracy: 0.6605\n",
      "Epoch 10/50\n",
      "587/587 [==============================] - 59s 101ms/step - loss: 0.7673 - accuracy: 0.6907 - val_loss: 0.8373 - val_accuracy: 0.6598\n",
      "Epoch 11/50\n",
      "587/587 [==============================] - 59s 100ms/step - loss: 0.7646 - accuracy: 0.6924 - val_loss: 0.8286 - val_accuracy: 0.6654\n",
      "Epoch 12/50\n",
      "587/587 [==============================] - 60s 102ms/step - loss: 0.7624 - accuracy: 0.6916 - val_loss: 0.8328 - val_accuracy: 0.6644\n",
      "Epoch 13/50\n",
      "587/587 [==============================] - 60s 102ms/step - loss: 0.7591 - accuracy: 0.6933 - val_loss: 0.8331 - val_accuracy: 0.6636\n",
      "Epoch 14/50\n",
      "587/587 [==============================] - 60s 102ms/step - loss: 0.7560 - accuracy: 0.6954 - val_loss: 0.8282 - val_accuracy: 0.6653\n",
      "Epoch 15/50\n",
      "587/587 [==============================] - 58s 99ms/step - loss: 0.7537 - accuracy: 0.6965 - val_loss: 0.8266 - val_accuracy: 0.6679\n",
      "Epoch 16/50\n",
      "587/587 [==============================] - 58s 98ms/step - loss: 0.7512 - accuracy: 0.6983 - val_loss: 0.8226 - val_accuracy: 0.6690\n",
      "Epoch 17/50\n",
      "587/587 [==============================] - 58s 98ms/step - loss: 0.7494 - accuracy: 0.6980 - val_loss: 0.8250 - val_accuracy: 0.6681\n",
      "Epoch 18/50\n",
      "587/587 [==============================] - 59s 101ms/step - loss: 0.7488 - accuracy: 0.6984 - val_loss: 0.8238 - val_accuracy: 0.6674\n",
      "Epoch 19/50\n",
      "587/587 [==============================] - 60s 102ms/step - loss: 0.7441 - accuracy: 0.6999 - val_loss: 0.8225 - val_accuracy: 0.6674\n",
      "Epoch 20/50\n",
      "587/587 [==============================] - 58s 99ms/step - loss: 0.7442 - accuracy: 0.7004 - val_loss: 0.8214 - val_accuracy: 0.6662\n",
      "Epoch 21/50\n",
      "587/587 [==============================] - 58s 99ms/step - loss: 0.7397 - accuracy: 0.7021 - val_loss: 0.8203 - val_accuracy: 0.6697\n",
      "Epoch 22/50\n",
      "587/587 [==============================] - 58s 99ms/step - loss: 0.7382 - accuracy: 0.7030 - val_loss: 0.8180 - val_accuracy: 0.6715\n",
      "Epoch 23/50\n",
      "587/587 [==============================] - 57s 97ms/step - loss: 0.7377 - accuracy: 0.7027 - val_loss: 0.8202 - val_accuracy: 0.6682\n",
      "Epoch 24/50\n",
      "587/587 [==============================] - 57s 98ms/step - loss: 0.7358 - accuracy: 0.7040 - val_loss: 0.8146 - val_accuracy: 0.6729\n",
      "Epoch 25/50\n",
      "587/587 [==============================] - 57s 98ms/step - loss: 0.7337 - accuracy: 0.7043 - val_loss: 0.8164 - val_accuracy: 0.6726\n",
      "Epoch 26/50\n",
      "587/587 [==============================] - 58s 98ms/step - loss: 0.7337 - accuracy: 0.7045 - val_loss: 0.8130 - val_accuracy: 0.6749\n",
      "Epoch 27/50\n",
      "587/587 [==============================] - 59s 100ms/step - loss: 0.7293 - accuracy: 0.7076 - val_loss: 0.8096 - val_accuracy: 0.6745\n",
      "Epoch 28/50\n",
      "587/587 [==============================] - 58s 99ms/step - loss: 0.7291 - accuracy: 0.7067 - val_loss: 0.8131 - val_accuracy: 0.6742\n",
      "Epoch 29/50\n",
      "587/587 [==============================] - 59s 100ms/step - loss: 0.7268 - accuracy: 0.7084 - val_loss: 0.8113 - val_accuracy: 0.6727\n",
      "Epoch 30/50\n",
      "587/587 [==============================] - 58s 98ms/step - loss: 0.7259 - accuracy: 0.7087 - val_loss: 0.8120 - val_accuracy: 0.6745\n",
      "Epoch 31/50\n",
      "587/587 [==============================] - 60s 102ms/step - loss: 0.7242 - accuracy: 0.7100 - val_loss: 0.8062 - val_accuracy: 0.6786\n",
      "Epoch 32/50\n",
      "587/587 [==============================] - 59s 100ms/step - loss: 0.7219 - accuracy: 0.7099 - val_loss: 0.8086 - val_accuracy: 0.6754\n",
      "Epoch 33/50\n",
      "587/587 [==============================] - 60s 102ms/step - loss: 0.7214 - accuracy: 0.7107 - val_loss: 0.8074 - val_accuracy: 0.6789\n",
      "Epoch 34/50\n",
      "587/587 [==============================] - 62s 106ms/step - loss: 0.7191 - accuracy: 0.7106 - val_loss: 0.8077 - val_accuracy: 0.6773\n",
      "Epoch 35/50\n",
      "587/587 [==============================] - 61s 103ms/step - loss: 0.7171 - accuracy: 0.7123 - val_loss: 0.8070 - val_accuracy: 0.6767\n",
      "Epoch 36/50\n",
      "587/587 [==============================] - 63s 107ms/step - loss: 0.7155 - accuracy: 0.7132 - val_loss: 0.8051 - val_accuracy: 0.6779\n",
      "Epoch 37/50\n",
      "587/587 [==============================] - 66s 113ms/step - loss: 0.7144 - accuracy: 0.7140 - val_loss: 0.8084 - val_accuracy: 0.6759\n",
      "Epoch 38/50\n",
      "587/587 [==============================] - 64s 108ms/step - loss: 0.7142 - accuracy: 0.7126 - val_loss: 0.8017 - val_accuracy: 0.6802\n",
      "Epoch 39/50\n",
      "587/587 [==============================] - 66s 113ms/step - loss: 0.7122 - accuracy: 0.7148 - val_loss: 0.8013 - val_accuracy: 0.6763\n",
      "Epoch 40/50\n",
      "587/587 [==============================] - 64s 108ms/step - loss: 0.7091 - accuracy: 0.7159 - val_loss: 0.8003 - val_accuracy: 0.6800\n",
      "Epoch 41/50\n",
      "587/587 [==============================] - 63s 106ms/step - loss: 0.7096 - accuracy: 0.7156 - val_loss: 0.8008 - val_accuracy: 0.6798\n",
      "Epoch 42/50\n",
      "587/587 [==============================] - 59s 100ms/step - loss: 0.7080 - accuracy: 0.7163 - val_loss: 0.8002 - val_accuracy: 0.6817\n",
      "Epoch 43/50\n",
      "587/587 [==============================] - 63s 107ms/step - loss: 0.7050 - accuracy: 0.7176 - val_loss: 0.8014 - val_accuracy: 0.6783\n",
      "Epoch 44/50\n",
      "587/587 [==============================] - 59s 100ms/step - loss: 0.7047 - accuracy: 0.7176 - val_loss: 0.7968 - val_accuracy: 0.6803\n",
      "Epoch 45/50\n",
      "587/587 [==============================] - 58s 99ms/step - loss: 0.7031 - accuracy: 0.7183 - val_loss: 0.7957 - val_accuracy: 0.6827\n",
      "Epoch 46/50\n",
      "587/587 [==============================] - 58s 99ms/step - loss: 0.7029 - accuracy: 0.7195 - val_loss: 0.8004 - val_accuracy: 0.6799\n",
      "Epoch 47/50\n",
      "587/587 [==============================] - 59s 100ms/step - loss: 0.7011 - accuracy: 0.7192 - val_loss: 0.7957 - val_accuracy: 0.6814\n",
      "Epoch 48/50\n",
      "587/587 [==============================] - 59s 100ms/step - loss: 0.7025 - accuracy: 0.7190 - val_loss: 0.7923 - val_accuracy: 0.6847\n",
      "Epoch 49/50\n",
      "587/587 [==============================] - 58s 99ms/step - loss: 0.6993 - accuracy: 0.7200 - val_loss: 0.7982 - val_accuracy: 0.6803\n",
      "Epoch 50/50\n",
      "587/587 [==============================] - 59s 100ms/step - loss: 0.6986 - accuracy: 0.7211 - val_loss: 0.7909 - val_accuracy: 0.6855\n"
     ]
    },
    {
     "data": {
      "text/plain": [
       "<keras.src.callbacks.History at 0x7fb452ff5190>"
      ]
     },
     "execution_count": 9,
     "metadata": {},
     "output_type": "execute_result"
    }
   ],
   "source": [
    "model.fit(training_generator, epochs=50, validation_data=validation_generator) "
   ]
  },
  {
   "cell_type": "code",
   "execution_count": 10,
   "id": "9d108987-dbbf-467b-9c3b-fcaa47ce83f4",
   "metadata": {},
   "outputs": [
    {
     "name": "stdout",
     "output_type": "stream",
     "text": [
      "INFO:tensorflow:Assets written to: 202309041922/assets\n"
     ]
    },
    {
     "name": "stderr",
     "output_type": "stream",
     "text": [
      "INFO:tensorflow:Assets written to: 202309041922/assets\n"
     ]
    }
   ],
   "source": [
    "model.save('202309041922')"
   ]
  },
  {
   "cell_type": "code",
   "execution_count": 11,
   "id": "739fa3dd-b981-41f5-b268-4abfa35cabe7",
   "metadata": {
    "scrolled": true
   },
   "outputs": [
    {
     "name": "stdout",
     "output_type": "stream",
     "text": [
      "Epoch 1/50\n",
      "587/587 [==============================] - 64s 109ms/step - loss: 0.6963 - accuracy: 0.7217 - val_loss: 0.7908 - val_accuracy: 0.6847\n",
      "Epoch 2/50\n",
      "587/587 [==============================] - 56s 95ms/step - loss: 0.6947 - accuracy: 0.7230 - val_loss: 0.7921 - val_accuracy: 0.6838\n",
      "Epoch 3/50\n",
      "587/587 [==============================] - 56s 95ms/step - loss: 0.6949 - accuracy: 0.7222 - val_loss: 0.7912 - val_accuracy: 0.6842\n",
      "Epoch 4/50\n",
      "587/587 [==============================] - 57s 97ms/step - loss: 0.6940 - accuracy: 0.7228 - val_loss: 0.7930 - val_accuracy: 0.6824\n",
      "Epoch 5/50\n",
      "587/587 [==============================] - 58s 98ms/step - loss: 0.6927 - accuracy: 0.7228 - val_loss: 0.7905 - val_accuracy: 0.6853\n",
      "Epoch 6/50\n",
      "587/587 [==============================] - 58s 98ms/step - loss: 0.6896 - accuracy: 0.7235 - val_loss: 0.7907 - val_accuracy: 0.6820\n",
      "Epoch 7/50\n",
      "587/587 [==============================] - 56s 96ms/step - loss: 0.6904 - accuracy: 0.7242 - val_loss: 0.7899 - val_accuracy: 0.6853\n",
      "Epoch 8/50\n",
      "587/587 [==============================] - 57s 97ms/step - loss: 0.6892 - accuracy: 0.7248 - val_loss: 0.7873 - val_accuracy: 0.6856\n",
      "Epoch 9/50\n",
      "587/587 [==============================] - 57s 97ms/step - loss: 0.6888 - accuracy: 0.7243 - val_loss: 0.7901 - val_accuracy: 0.6853\n",
      "Epoch 10/50\n",
      "587/587 [==============================] - 57s 97ms/step - loss: 0.6873 - accuracy: 0.7259 - val_loss: 0.7905 - val_accuracy: 0.6842\n",
      "Epoch 11/50\n",
      "587/587 [==============================] - 57s 96ms/step - loss: 0.6882 - accuracy: 0.7240 - val_loss: 0.7850 - val_accuracy: 0.6880\n",
      "Epoch 12/50\n",
      "587/587 [==============================] - 57s 97ms/step - loss: 0.6853 - accuracy: 0.7252 - val_loss: 0.7890 - val_accuracy: 0.6857\n",
      "Epoch 13/50\n",
      "587/587 [==============================] - 57s 97ms/step - loss: 0.6860 - accuracy: 0.7259 - val_loss: 0.7859 - val_accuracy: 0.6883\n",
      "Epoch 14/50\n",
      "587/587 [==============================] - 59s 100ms/step - loss: 0.6835 - accuracy: 0.7269 - val_loss: 0.7865 - val_accuracy: 0.6892\n",
      "Epoch 15/50\n",
      "587/587 [==============================] - 58s 99ms/step - loss: 0.6825 - accuracy: 0.7271 - val_loss: 0.7865 - val_accuracy: 0.6879\n",
      "Epoch 16/50\n",
      "587/587 [==============================] - 59s 100ms/step - loss: 0.6826 - accuracy: 0.7281 - val_loss: 0.7821 - val_accuracy: 0.6903\n",
      "Epoch 17/50\n",
      "587/587 [==============================] - 58s 98ms/step - loss: 0.6799 - accuracy: 0.7291 - val_loss: 0.7811 - val_accuracy: 0.6905\n",
      "Epoch 18/50\n",
      "587/587 [==============================] - 59s 100ms/step - loss: 0.6793 - accuracy: 0.7279 - val_loss: 0.7840 - val_accuracy: 0.6895\n",
      "Epoch 19/50\n",
      "587/587 [==============================] - 57s 97ms/step - loss: 0.6797 - accuracy: 0.7280 - val_loss: 0.7852 - val_accuracy: 0.6867\n",
      "Epoch 20/50\n",
      "587/587 [==============================] - 57s 98ms/step - loss: 0.6785 - accuracy: 0.7287 - val_loss: 0.7809 - val_accuracy: 0.6907\n",
      "Epoch 21/50\n",
      "587/587 [==============================] - 57s 97ms/step - loss: 0.6778 - accuracy: 0.7290 - val_loss: 0.7815 - val_accuracy: 0.6907\n",
      "Epoch 22/50\n",
      "587/587 [==============================] - 59s 99ms/step - loss: 0.6774 - accuracy: 0.7294 - val_loss: 0.7796 - val_accuracy: 0.6916\n",
      "Epoch 23/50\n",
      "587/587 [==============================] - 57s 96ms/step - loss: 0.6768 - accuracy: 0.7291 - val_loss: 0.7783 - val_accuracy: 0.6915\n",
      "Epoch 24/50\n",
      "587/587 [==============================] - 58s 99ms/step - loss: 0.6746 - accuracy: 0.7303 - val_loss: 0.7815 - val_accuracy: 0.6908\n",
      "Epoch 25/50\n",
      "587/587 [==============================] - 57s 97ms/step - loss: 0.6743 - accuracy: 0.7314 - val_loss: 0.7784 - val_accuracy: 0.6919\n",
      "Epoch 26/50\n",
      "587/587 [==============================] - 59s 100ms/step - loss: 0.6749 - accuracy: 0.7312 - val_loss: 0.7785 - val_accuracy: 0.6917\n",
      "Epoch 27/50\n",
      "587/587 [==============================] - 57s 98ms/step - loss: 0.6734 - accuracy: 0.7317 - val_loss: 0.7795 - val_accuracy: 0.6932\n",
      "Epoch 28/50\n",
      "587/587 [==============================] - 58s 99ms/step - loss: 0.6718 - accuracy: 0.7314 - val_loss: 0.7795 - val_accuracy: 0.6933\n",
      "Epoch 29/50\n",
      "587/587 [==============================] - 59s 100ms/step - loss: 0.6714 - accuracy: 0.7321 - val_loss: 0.7793 - val_accuracy: 0.6917\n",
      "Epoch 30/50\n",
      "587/587 [==============================] - 58s 99ms/step - loss: 0.6685 - accuracy: 0.7336 - val_loss: 0.7788 - val_accuracy: 0.6927\n",
      "Epoch 31/50\n",
      "587/587 [==============================] - 58s 99ms/step - loss: 0.6684 - accuracy: 0.7327 - val_loss: 0.7781 - val_accuracy: 0.6922\n",
      "Epoch 32/50\n",
      "587/587 [==============================] - 58s 98ms/step - loss: 0.6684 - accuracy: 0.7334 - val_loss: 0.7767 - val_accuracy: 0.6934\n",
      "Epoch 33/50\n",
      "587/587 [==============================] - 57s 97ms/step - loss: 0.6668 - accuracy: 0.7335 - val_loss: 0.7771 - val_accuracy: 0.6917\n",
      "Epoch 34/50\n",
      "587/587 [==============================] - 58s 98ms/step - loss: 0.6670 - accuracy: 0.7345 - val_loss: 0.7768 - val_accuracy: 0.6926\n",
      "Epoch 35/50\n",
      "587/587 [==============================] - 59s 100ms/step - loss: 0.6680 - accuracy: 0.7339 - val_loss: 0.7757 - val_accuracy: 0.6927\n",
      "Epoch 36/50\n",
      "587/587 [==============================] - 56s 96ms/step - loss: 0.6672 - accuracy: 0.7342 - val_loss: 0.7759 - val_accuracy: 0.6935\n",
      "Epoch 37/50\n",
      "587/587 [==============================] - 57s 97ms/step - loss: 0.6661 - accuracy: 0.7344 - val_loss: 0.7745 - val_accuracy: 0.6939\n",
      "Epoch 38/50\n",
      "587/587 [==============================] - 58s 99ms/step - loss: 0.6658 - accuracy: 0.7341 - val_loss: 0.7774 - val_accuracy: 0.6931\n",
      "Epoch 39/50\n",
      "587/587 [==============================] - 58s 98ms/step - loss: 0.6651 - accuracy: 0.7351 - val_loss: 0.7715 - val_accuracy: 0.6954\n",
      "Epoch 40/50\n",
      "587/587 [==============================] - 58s 99ms/step - loss: 0.6633 - accuracy: 0.7361 - val_loss: 0.7775 - val_accuracy: 0.6947\n",
      "Epoch 41/50\n",
      "587/587 [==============================] - 59s 100ms/step - loss: 0.6635 - accuracy: 0.7355 - val_loss: 0.7774 - val_accuracy: 0.6918\n",
      "Epoch 42/50\n",
      "587/587 [==============================] - 58s 99ms/step - loss: 0.6620 - accuracy: 0.7366 - val_loss: 0.7725 - val_accuracy: 0.6951\n",
      "Epoch 43/50\n",
      "587/587 [==============================] - 58s 99ms/step - loss: 0.6633 - accuracy: 0.7357 - val_loss: 0.7714 - val_accuracy: 0.6951\n",
      "Epoch 44/50\n",
      "587/587 [==============================] - 59s 100ms/step - loss: 0.6600 - accuracy: 0.7365 - val_loss: 0.7713 - val_accuracy: 0.6955\n",
      "Epoch 45/50\n",
      "587/587 [==============================] - 59s 100ms/step - loss: 0.6587 - accuracy: 0.7373 - val_loss: 0.7718 - val_accuracy: 0.6928\n",
      "Epoch 46/50\n",
      "587/587 [==============================] - 58s 99ms/step - loss: 0.6594 - accuracy: 0.7375 - val_loss: 0.7706 - val_accuracy: 0.6956\n",
      "Epoch 47/50\n",
      "587/587 [==============================] - 58s 98ms/step - loss: 0.6571 - accuracy: 0.7385 - val_loss: 0.7743 - val_accuracy: 0.6937\n",
      "Epoch 48/50\n",
      "587/587 [==============================] - 60s 102ms/step - loss: 0.6576 - accuracy: 0.7379 - val_loss: 0.7689 - val_accuracy: 0.6952\n",
      "Epoch 49/50\n",
      "587/587 [==============================] - 57s 97ms/step - loss: 0.6583 - accuracy: 0.7377 - val_loss: 0.7729 - val_accuracy: 0.6939\n",
      "Epoch 50/50\n",
      "587/587 [==============================] - 58s 99ms/step - loss: 0.6565 - accuracy: 0.7385 - val_loss: 0.7701 - val_accuracy: 0.6964\n"
     ]
    },
    {
     "data": {
      "text/plain": [
       "<keras.src.callbacks.History at 0x7fb4504f3e10>"
      ]
     },
     "execution_count": 11,
     "metadata": {},
     "output_type": "execute_result"
    }
   ],
   "source": [
    "model.fit(training_generator, epochs=50, validation_data=validation_generator) "
   ]
  },
  {
   "cell_type": "code",
   "execution_count": 12,
   "id": "255849db-6d96-4848-955c-f3c5045c55fc",
   "metadata": {},
   "outputs": [
    {
     "name": "stdout",
     "output_type": "stream",
     "text": [
      "INFO:tensorflow:Assets written to: 202309042011/assets\n"
     ]
    },
    {
     "name": "stderr",
     "output_type": "stream",
     "text": [
      "INFO:tensorflow:Assets written to: 202309042011/assets\n"
     ]
    }
   ],
   "source": [
    "model.save('202309042011')"
   ]
  },
  {
   "cell_type": "code",
   "execution_count": null,
   "id": "779cee25-d05a-426a-80cf-0ce2013d0617",
   "metadata": {},
   "outputs": [],
   "source": []
  }
 ],
 "metadata": {
  "kernelspec": {
   "display_name": "Python 3 (ipykernel)",
   "language": "python",
   "name": "python3"
  },
  "language_info": {
   "codemirror_mode": {
    "name": "ipython",
    "version": 3
   },
   "file_extension": ".py",
   "mimetype": "text/x-python",
   "name": "python",
   "nbconvert_exporter": "python",
   "pygments_lexer": "ipython3",
   "version": "3.11.5"
  }
 },
 "nbformat": 4,
 "nbformat_minor": 5
}
