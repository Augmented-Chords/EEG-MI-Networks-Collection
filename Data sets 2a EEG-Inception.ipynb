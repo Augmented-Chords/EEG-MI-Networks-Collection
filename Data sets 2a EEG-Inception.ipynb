{
 "cells": [
  {
   "cell_type": "code",
   "execution_count": 149,
   "id": "a596c2c6-0962-4f29-bd10-87414d3d8111",
   "metadata": {},
   "outputs": [
    {
     "name": "stdout",
     "output_type": "stream",
     "text": [
      "5184\n",
      "5184\n"
     ]
    }
   ],
   "source": [
    "import numpy as np\n",
    "import os\n",
    "from pathlib import Path\n",
    "paths_list=[]\n",
    "labels_list=[]\n",
    "for i in range (1, 10):\n",
    "    for j in range(0, 288):\n",
    "        if os.path.isfile(f\"Data sets 2a 0.0-4.0s 250Hz/data/A{str(i).rjust(2, '0')}TE{str(j).rjust(4, '0')}.npy\"):\n",
    "            paths_list.append(f\"Data sets 2a 0.0-4.0s 250Hz/data/A{str(i).rjust(2, '0')}TE{str(j).rjust(4, '0')}.npy\")\n",
    "for i in range (1, 10):\n",
    "    for j in range(0, 288):\n",
    "        if os.path.isfile(f\"Data sets 2a 0.0-4.0s 250Hz/data/A{str(i).rjust(2, '0')}EE{str(j).rjust(4, '0')}.npy\"):\n",
    "            paths_list.append(f\"Data sets 2a 0.0-4.0s 250Hz/data/A{str(i).rjust(2, '0')}EE{str(j).rjust(4, '0')}.npy\")\n",
    "labels_list = np.load('Data sets 2a 0.0-4.0s 250Hz/labels_list.npy')\n",
    "print(len(paths_list))\n",
    "print(len(labels_list))"
   ]
  },
  {
   "cell_type": "code",
   "execution_count": 129,
   "id": "773032f4-aedd-4a7f-956b-94eb4ad26ab3",
   "metadata": {},
   "outputs": [],
   "source": [
    "from sklearn import model_selection\n",
    "x_train, x_test_raw, y_train, y_test_raw = model_selection.train_test_split(\n",
    "    paths_list, labels_list, test_size=0.2, random_state=42, shuffle=True\n",
    ")\n",
    "x_evaluate, x_test, y_evaluate, y_test = model_selection.train_test_split(\n",
    "    x_test_raw, y_test_raw, test_size=0.5, random_state=42, shuffle=True\n",
    ")"
   ]
  },
  {
   "cell_type": "code",
   "execution_count": 137,
   "id": "201ae65a-8111-420e-b252-0a590fa19689",
   "metadata": {},
   "outputs": [],
   "source": [
    "import tensorflow as tf\n",
    "import math\n",
    "class Datasets2aSequence(tf.keras.utils.Sequence):\n",
    "\n",
    "    def __init__(self, x_set, y_set, batch_size):\n",
    "        self.x, self.y = x_set, y_set\n",
    "        self.batch_size = batch_size\n",
    "\n",
    "    def __len__(self):\n",
    "        return math.ceil(len(self.x) / self.batch_size)\n",
    "\n",
    "    def __getitem__(self, idx):\n",
    "        low = idx * self.batch_size\n",
    "        # Cap upper bound at array length; the last batch may be smaller\n",
    "        # if the total number of items is not a multiple of batch size.\n",
    "        high = min(low + self.batch_size, len(self.x))\n",
    "        batch_x = self.x[low:high]\n",
    "        batch_y = self.y[low:high]\n",
    "\n",
    "        return np.array([np.moveaxis(np.load(file_name),0,1) for file_name in batch_x]), np.array(batch_y)"
   ]
  },
  {
   "cell_type": "code",
   "execution_count": 117,
   "id": "3b9c352b-74ce-4d8f-8668-3f5fa1ec446c",
   "metadata": {},
   "outputs": [],
   "source": [
    "def InitialInceptionModule(input):\n",
    "    maxpooling1d = MaxPooling1D(pool_size=1)(input) \n",
    "    maxpooling1dconv1d = Conv1D(filters=48, kernel_size=1, strides=1)(maxpooling1d)\n",
    "    bottleneck = Conv1D(48, 1, strides=1)(input)    \n",
    "    conv1d1 = Conv1D(48, 25, strides=1, padding='causal')(bottleneck)\n",
    "    conv1d2 = Conv1D(48, 75, strides=1, padding='causal')(bottleneck)\n",
    "    conv1d3 = Conv1D(48, 125, strides=1, padding='causal')(bottleneck)\n",
    "    conv1d4 = Conv1D(48, 175, strides=1, padding='causal')(bottleneck)\n",
    "    conv1d5 = Conv1D(48, 225, strides=1, padding='causal')(bottleneck)\n",
    "    concatenateResult = concatenate([conv1d1,conv1d2,conv1d3,conv1d4,conv1d5,maxpooling1dconv1d],axis=2)\n",
    "    batchNormalization = BatchNormalization()(concatenateResult)\n",
    "    activation = Activation('relu')(batchNormalization)\n",
    "    return activation"
   ]
  },
  {
   "cell_type": "code",
   "execution_count": 118,
   "id": "f0b5c764-83c1-4852-86b6-b019b3175ea4",
   "metadata": {},
   "outputs": [],
   "source": [
    "def IntermeidateInceptionModule(input):\n",
    "    maxpooling1d = MaxPooling1D(pool_size=1)(input) \n",
    "    maxpooling1dconv1d = Conv1D(filters=48, kernel_size=1, strides=1)(maxpooling1d)\n",
    "    bottleneck = Conv1D(48, 1, strides=1)(input)    \n",
    "    conv1d1 = Conv1D(48, 25, strides=1, padding='causal')(bottleneck)\n",
    "    conv1d2 = Conv1D(48, 75, strides=1, padding='causal')(bottleneck)\n",
    "    conv1d3 = Conv1D(48, 125, strides=1, padding='causal')(bottleneck)\n",
    "    conv1d4 = Conv1D(48, 175, strides=1, padding='causal')(bottleneck)\n",
    "    conv1d5 = Conv1D(48, 225, strides=1, padding='causal')(bottleneck)\n",
    "    concatenateResult = concatenate([conv1d1,conv1d2,conv1d3,conv1d4,conv1d5,maxpooling1dconv1d],axis=2)\n",
    "    batchNormalization = BatchNormalization()(concatenateResult)\n",
    "    activation = Activation('relu')(batchNormalization)\n",
    "    return activation"
   ]
  },
  {
   "cell_type": "code",
   "execution_count": 121,
   "id": "10ed4515-64f6-4aa6-a33f-d8c8d7e30078",
   "metadata": {},
   "outputs": [],
   "source": [
    "def ResidualModel(input):\n",
    "    conv1d = Conv1D(288, 1, strides=1)(input)\n",
    "    batchNormalization = BatchNormalization()(conv1d)\n",
    "    activation = Activation('relu')(batchNormalization)\n",
    "    return activation"
   ]
  },
  {
   "cell_type": "code",
   "execution_count": 145,
   "id": "4e0902bb-8a7b-4954-86e4-b2554e51dfea",
   "metadata": {
    "scrolled": true
   },
   "outputs": [
    {
     "name": "stdout",
     "output_type": "stream",
     "text": [
      "Model: \"model\"\n",
      "__________________________________________________________________________________________________\n",
      " Layer (type)                Output Shape                 Param #   Connected to                  \n",
      "==================================================================================================\n",
      " input_1 (InputLayer)        [(None, 1000, 22)]           0         []                            \n",
      "                                                                                                  \n",
      " conv1d_2 (Conv1D)           (None, 1000, 48)             1104      ['input_1[0][0]']             \n",
      "                                                                                                  \n",
      " max_pooling1d (MaxPooling1  (None, 1000, 22)             0         ['input_1[0][0]']             \n",
      " D)                                                                                               \n",
      "                                                                                                  \n",
      " conv1d_3 (Conv1D)           (None, 1000, 48)             57648     ['conv1d_2[0][0]']            \n",
      "                                                                                                  \n",
      " conv1d_4 (Conv1D)           (None, 1000, 48)             172848    ['conv1d_2[0][0]']            \n",
      "                                                                                                  \n",
      " conv1d_5 (Conv1D)           (None, 1000, 48)             288048    ['conv1d_2[0][0]']            \n",
      "                                                                                                  \n",
      " conv1d_6 (Conv1D)           (None, 1000, 48)             403248    ['conv1d_2[0][0]']            \n",
      "                                                                                                  \n",
      " conv1d_7 (Conv1D)           (None, 1000, 48)             518448    ['conv1d_2[0][0]']            \n",
      "                                                                                                  \n",
      " conv1d_1 (Conv1D)           (None, 1000, 48)             1104      ['max_pooling1d[0][0]']       \n",
      "                                                                                                  \n",
      " concatenate (Concatenate)   (None, 1000, 288)            0         ['conv1d_3[0][0]',            \n",
      "                                                                     'conv1d_4[0][0]',            \n",
      "                                                                     'conv1d_5[0][0]',            \n",
      "                                                                     'conv1d_6[0][0]',            \n",
      "                                                                     'conv1d_7[0][0]',            \n",
      "                                                                     'conv1d_1[0][0]']            \n",
      "                                                                                                  \n",
      " batch_normalization_1 (Bat  (None, 1000, 288)            1152      ['concatenate[0][0]']         \n",
      " chNormalization)                                                                                 \n",
      "                                                                                                  \n",
      " activation_1 (Activation)   (None, 1000, 288)            0         ['batch_normalization_1[0][0]'\n",
      "                                                                    ]                             \n",
      "                                                                                                  \n",
      " conv1d_9 (Conv1D)           (None, 1000, 48)             13872     ['activation_1[0][0]']        \n",
      "                                                                                                  \n",
      " max_pooling1d_1 (MaxPoolin  (None, 1000, 288)            0         ['activation_1[0][0]']        \n",
      " g1D)                                                                                             \n",
      "                                                                                                  \n",
      " conv1d_10 (Conv1D)          (None, 1000, 48)             57648     ['conv1d_9[0][0]']            \n",
      "                                                                                                  \n",
      " conv1d_11 (Conv1D)          (None, 1000, 48)             172848    ['conv1d_9[0][0]']            \n",
      "                                                                                                  \n",
      " conv1d_12 (Conv1D)          (None, 1000, 48)             288048    ['conv1d_9[0][0]']            \n",
      "                                                                                                  \n",
      " conv1d_13 (Conv1D)          (None, 1000, 48)             403248    ['conv1d_9[0][0]']            \n",
      "                                                                                                  \n",
      " conv1d_14 (Conv1D)          (None, 1000, 48)             518448    ['conv1d_9[0][0]']            \n",
      "                                                                                                  \n",
      " conv1d_8 (Conv1D)           (None, 1000, 48)             13872     ['max_pooling1d_1[0][0]']     \n",
      "                                                                                                  \n",
      " concatenate_1 (Concatenate  (None, 1000, 288)            0         ['conv1d_10[0][0]',           \n",
      " )                                                                   'conv1d_11[0][0]',           \n",
      "                                                                     'conv1d_12[0][0]',           \n",
      "                                                                     'conv1d_13[0][0]',           \n",
      "                                                                     'conv1d_14[0][0]',           \n",
      "                                                                     'conv1d_8[0][0]']            \n",
      "                                                                                                  \n",
      " batch_normalization_2 (Bat  (None, 1000, 288)            1152      ['concatenate_1[0][0]']       \n",
      " chNormalization)                                                                                 \n",
      "                                                                                                  \n",
      " activation_2 (Activation)   (None, 1000, 288)            0         ['batch_normalization_2[0][0]'\n",
      "                                                                    ]                             \n",
      "                                                                                                  \n",
      " conv1d_16 (Conv1D)          (None, 1000, 48)             13872     ['activation_2[0][0]']        \n",
      "                                                                                                  \n",
      " max_pooling1d_2 (MaxPoolin  (None, 1000, 288)            0         ['activation_2[0][0]']        \n",
      " g1D)                                                                                             \n",
      "                                                                                                  \n",
      " conv1d_17 (Conv1D)          (None, 1000, 48)             57648     ['conv1d_16[0][0]']           \n",
      "                                                                                                  \n",
      " conv1d_18 (Conv1D)          (None, 1000, 48)             172848    ['conv1d_16[0][0]']           \n",
      "                                                                                                  \n",
      " conv1d_19 (Conv1D)          (None, 1000, 48)             288048    ['conv1d_16[0][0]']           \n",
      "                                                                                                  \n",
      " conv1d_20 (Conv1D)          (None, 1000, 48)             403248    ['conv1d_16[0][0]']           \n",
      "                                                                                                  \n",
      " conv1d_21 (Conv1D)          (None, 1000, 48)             518448    ['conv1d_16[0][0]']           \n",
      "                                                                                                  \n",
      " conv1d_15 (Conv1D)          (None, 1000, 48)             13872     ['max_pooling1d_2[0][0]']     \n",
      "                                                                                                  \n",
      " concatenate_2 (Concatenate  (None, 1000, 288)            0         ['conv1d_17[0][0]',           \n",
      " )                                                                   'conv1d_18[0][0]',           \n",
      "                                                                     'conv1d_19[0][0]',           \n",
      "                                                                     'conv1d_20[0][0]',           \n",
      "                                                                     'conv1d_21[0][0]',           \n",
      "                                                                     'conv1d_15[0][0]']           \n",
      "                                                                                                  \n",
      " batch_normalization_3 (Bat  (None, 1000, 288)            1152      ['concatenate_2[0][0]']       \n",
      " chNormalization)                                                                                 \n",
      "                                                                                                  \n",
      " activation_3 (Activation)   (None, 1000, 288)            0         ['batch_normalization_3[0][0]'\n",
      "                                                                    ]                             \n",
      "                                                                                                  \n",
      " conv1d_23 (Conv1D)          (None, 1000, 48)             13872     ['activation_3[0][0]']        \n",
      "                                                                                                  \n",
      " max_pooling1d_3 (MaxPoolin  (None, 1000, 288)            0         ['activation_3[0][0]']        \n",
      " g1D)                                                                                             \n",
      "                                                                                                  \n",
      " conv1d_24 (Conv1D)          (None, 1000, 48)             57648     ['conv1d_23[0][0]']           \n",
      "                                                                                                  \n",
      " conv1d_25 (Conv1D)          (None, 1000, 48)             172848    ['conv1d_23[0][0]']           \n",
      "                                                                                                  \n",
      " conv1d_26 (Conv1D)          (None, 1000, 48)             288048    ['conv1d_23[0][0]']           \n",
      "                                                                                                  \n",
      " conv1d_27 (Conv1D)          (None, 1000, 48)             403248    ['conv1d_23[0][0]']           \n",
      "                                                                                                  \n",
      " conv1d_28 (Conv1D)          (None, 1000, 48)             518448    ['conv1d_23[0][0]']           \n",
      "                                                                                                  \n",
      " conv1d_22 (Conv1D)          (None, 1000, 48)             13872     ['max_pooling1d_3[0][0]']     \n",
      "                                                                                                  \n",
      " conv1d (Conv1D)             (None, 1000, 288)            6624      ['input_1[0][0]']             \n",
      "                                                                                                  \n",
      " concatenate_3 (Concatenate  (None, 1000, 288)            0         ['conv1d_24[0][0]',           \n",
      " )                                                                   'conv1d_25[0][0]',           \n",
      "                                                                     'conv1d_26[0][0]',           \n",
      "                                                                     'conv1d_27[0][0]',           \n",
      "                                                                     'conv1d_28[0][0]',           \n",
      "                                                                     'conv1d_22[0][0]']           \n",
      "                                                                                                  \n",
      " batch_normalization (Batch  (None, 1000, 288)            1152      ['conv1d[0][0]']              \n",
      " Normalization)                                                                                   \n",
      "                                                                                                  \n",
      " batch_normalization_4 (Bat  (None, 1000, 288)            1152      ['concatenate_3[0][0]']       \n",
      " chNormalization)                                                                                 \n",
      "                                                                                                  \n",
      " activation (Activation)     (None, 1000, 288)            0         ['batch_normalization[0][0]'] \n",
      "                                                                                                  \n",
      " activation_4 (Activation)   (None, 1000, 288)            0         ['batch_normalization_4[0][0]'\n",
      "                                                                    ]                             \n",
      "                                                                                                  \n",
      " add (Add)                   (None, 1000, 288)            0         ['activation[0][0]',          \n",
      "                                                                     'activation_4[0][0]']        \n",
      "                                                                                                  \n",
      " conv1d_29 (Conv1D)          (None, 1000, 288)            83232     ['add[0][0]']                 \n",
      "                                                                                                  \n",
      " batch_normalization_5 (Bat  (None, 1000, 288)            1152      ['conv1d_29[0][0]']           \n",
      " chNormalization)                                                                                 \n",
      "                                                                                                  \n",
      " activation_5 (Activation)   (None, 1000, 288)            0         ['batch_normalization_5[0][0]'\n",
      "                                                                    ]                             \n",
      "                                                                                                  \n",
      " add_1 (Add)                 (None, 1000, 288)            0         ['activation_5[0][0]',        \n",
      "                                                                     'activation_4[0][0]']        \n",
      "                                                                                                  \n",
      " average_pooling1d (Average  (None, 1000, 288)            0         ['add_1[0][0]']               \n",
      " Pooling1D)                                                                                       \n",
      "                                                                                                  \n",
      " flatten (Flatten)           (None, 288000)               0         ['average_pooling1d[0][0]']   \n",
      "                                                                                                  \n",
      " dense (Dense)               (None, 4)                    1152004   ['flatten[0][0]']             \n",
      "                                                                                                  \n",
      "==================================================================================================\n",
      "Total params: 7095172 (27.07 MB)\n",
      "Trainable params: 7091716 (27.05 MB)\n",
      "Non-trainable params: 3456 (13.50 KB)\n",
      "__________________________________________________________________________________________________\n"
     ]
    }
   ],
   "source": [
    "from tensorflow.keras.layers import Conv1D,MaxPooling1D,AveragePooling1D,Activation,BatchNormalization,Dense,Dropout,Flatten,Input,Add,concatenate\n",
    "from tensorflow.keras.models import Model\n",
    "from tensorflow.keras.backend import clear_session\n",
    "from tensorflow.keras import optimizers\n",
    "from keras.callbacks import ReduceLROnPlateau\n",
    "num_classes = 4\n",
    "sgd = optimizers.SGD(learning_rate=0.005)\n",
    "def EEGInception():\n",
    "    clear_session()\n",
    "    kerasInput= Input((1000,22))\n",
    "    residualModel1 = ResidualModel(kerasInput)\n",
    "    initialInceptionModule = InitialInceptionModule(kerasInput)\n",
    "    intermeidateInceptionModule1 = IntermeidateInceptionModule(initialInceptionModule)\n",
    "    intermeidateInceptionModule2 = IntermeidateInceptionModule(intermeidateInceptionModule1)\n",
    "    intermeidateInceptionModule3 = IntermeidateInceptionModule(intermeidateInceptionModule2)\n",
    "    firstBlock = Add()([residualModel1,intermeidateInceptionModule3])\n",
    "    \n",
    "    residualModel2=ResidualModel(firstBlock)\n",
    "    intermeidateInceptionModule4 = IntermeidateInceptionModule(firstBlock)\n",
    "    intermeidateInceptionModule5 = IntermeidateInceptionModule(intermeidateInceptionModule4)\n",
    "    intermeidateInceptionModule6 = IntermeidateInceptionModule(intermeidateInceptionModule5)\n",
    "    secondBlock = Add()([residualModel2,intermeidateInceptionModule3])\n",
    "    \n",
    "    averagePooling1D = AveragePooling1D(pool_size=1)(secondBlock)\n",
    "    flatten = Flatten()(averagePooling1D)\n",
    "    dense = Dense(4,activation='softmax')(flatten)\n",
    "    model = Model(inputs=kerasInput, outputs=dense)\n",
    "    model.compile(sgd, loss='categorical_crossentropy', metrics = ['accuracy'])\n",
    "    return model\n",
    "    \n",
    "model = EEGInception()\n",
    "model.summary()"
   ]
  },
  {
   "cell_type": "code",
   "execution_count": 146,
   "id": "d7847df7-0a74-42d0-8604-b62c090f1564",
   "metadata": {
    "scrolled": true
   },
   "outputs": [
    {
     "name": "stdout",
     "output_type": "stream",
     "text": [
      "Epoch 1/10\n",
      "130/130 [==============================] - 52s 354ms/step - loss: 85.7676 - accuracy: 0.2850 - val_loss: 93.6472 - val_accuracy: 0.3025\n",
      "Epoch 2/10\n",
      "130/130 [==============================] - 46s 352ms/step - loss: 17.1684 - accuracy: 0.3890 - val_loss: 15.0290 - val_accuracy: 0.3757\n",
      "Epoch 3/10\n",
      "130/130 [==============================] - 46s 352ms/step - loss: 5.8583 - accuracy: 0.5561 - val_loss: 3.8161 - val_accuracy: 0.4509\n",
      "Epoch 4/10\n",
      "130/130 [==============================] - 46s 354ms/step - loss: 1.9382 - accuracy: 0.7321 - val_loss: 2.3401 - val_accuracy: 0.5723\n",
      "Epoch 5/10\n",
      "130/130 [==============================] - 46s 352ms/step - loss: 0.3192 - accuracy: 0.9151 - val_loss: 2.4202 - val_accuracy: 0.5761\n",
      "Epoch 6/10\n",
      "130/130 [==============================] - 46s 353ms/step - loss: 0.0735 - accuracy: 0.9740 - val_loss: 1.8361 - val_accuracy: 0.6262\n",
      "Epoch 7/10\n",
      "130/130 [==============================] - 46s 353ms/step - loss: 0.0087 - accuracy: 0.9986 - val_loss: 1.8060 - val_accuracy: 0.6320\n",
      "Epoch 8/10\n",
      "130/130 [==============================] - 46s 353ms/step - loss: 0.0026 - accuracy: 1.0000 - val_loss: 1.7568 - val_accuracy: 0.6493\n",
      "Epoch 9/10\n",
      "130/130 [==============================] - 46s 353ms/step - loss: 0.0018 - accuracy: 1.0000 - val_loss: 1.7530 - val_accuracy: 0.6493\n",
      "Epoch 10/10\n",
      "130/130 [==============================] - 46s 354ms/step - loss: 0.0016 - accuracy: 1.0000 - val_loss: 1.7555 - val_accuracy: 0.6474\n"
     ]
    },
    {
     "data": {
      "text/plain": [
       "<keras.src.callbacks.History at 0x7fdcdc811d10>"
      ]
     },
     "execution_count": 146,
     "metadata": {},
     "output_type": "execute_result"
    }
   ],
   "source": [
    "training_generator = Datasets2aSequence(x_train, y_train, 32)\n",
    "validation_generator = Datasets2aSequence(x_test, y_test, 32)\n",
    "# reduce_lr = ReduceLROnPlateau(monitor='val_loss', factor=0.5, patience=10, min_lr=0.0001)\n",
    "model.fit(training_generator, epochs=10, validation_data=validation_generator) "
   ]
  },
  {
   "cell_type": "code",
   "execution_count": 147,
   "id": "5faf15fa-1e4b-467a-92b2-2c67f16b2eb3",
   "metadata": {},
   "outputs": [
    {
     "name": "stdout",
     "output_type": "stream",
     "text": [
      "9/9 [==============================] - 2s 153ms/step - loss: 1.6572 - accuracy: 0.6757\n"
     ]
    },
    {
     "data": {
      "text/plain": [
       "[1.657224178314209, 0.6756756901741028]"
      ]
     },
     "execution_count": 147,
     "metadata": {},
     "output_type": "execute_result"
    }
   ],
   "source": [
    "model.evaluate(Datasets2aSequence(x_evaluate, y_evaluate, 64))"
   ]
  },
  {
   "cell_type": "code",
   "execution_count": 148,
   "id": "1edf409c-029a-4872-80cc-f694f9633d28",
   "metadata": {},
   "outputs": [
    {
     "name": "stdout",
     "output_type": "stream",
     "text": [
      "INFO:tensorflow:Assets written to: 202309061325/assets\n"
     ]
    },
    {
     "name": "stderr",
     "output_type": "stream",
     "text": [
      "INFO:tensorflow:Assets written to: 202309061325/assets\n"
     ]
    }
   ],
   "source": [
    "model.save('202309061325')"
   ]
  },
  {
   "cell_type": "code",
   "execution_count": null,
   "id": "5c94ff2e-47fb-4ba3-8161-0ef1984479d4",
   "metadata": {},
   "outputs": [],
   "source": []
  }
 ],
 "metadata": {
  "kernelspec": {
   "display_name": "Python 3 (ipykernel)",
   "language": "python",
   "name": "python3"
  },
  "language_info": {
   "codemirror_mode": {
    "name": "ipython",
    "version": 3
   },
   "file_extension": ".py",
   "mimetype": "text/x-python",
   "name": "python",
   "nbconvert_exporter": "python",
   "pygments_lexer": "ipython3",
   "version": "3.11.5"
  }
 },
 "nbformat": 4,
 "nbformat_minor": 5
}
